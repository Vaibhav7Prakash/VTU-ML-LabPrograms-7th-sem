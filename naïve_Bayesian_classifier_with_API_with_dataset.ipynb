{
  "nbformat": 4,
  "nbformat_minor": 0,
  "metadata": {
    "kernelspec": {
      "display_name": "Python 3",
      "language": "python",
      "name": "python3"
    },
    "language_info": {
      "codemirror_mode": {
        "name": "ipython",
        "version": 3
      },
      "file_extension": ".py",
      "mimetype": "text/x-python",
      "name": "python",
      "nbconvert_exporter": "python",
      "pygments_lexer": "ipython3",
      "version": "3.8.5"
    },
    "colab": {
      "name": "naïve Bayesian classifier with API with dataset.ipynb",
      "provenance": [],
      "include_colab_link": true
    }
  },
  "cells": [
    {
      "cell_type": "markdown",
      "metadata": {
        "id": "view-in-github",
        "colab_type": "text"
      },
      "source": [
        "<a href=\"https://colab.research.google.com/github/shubhransh-gupta/VTU-ML-LabPrograms-7th-sem/blob/master/na%C3%AFve_Bayesian_classifier_with_API_with_dataset.ipynb\" target=\"_parent\"><img src=\"https://colab.research.google.com/assets/colab-badge.svg\" alt=\"Open In Colab\"/></a>"
      ]
    },
    {
      "cell_type": "code",
      "metadata": {
        "id": "1014wPLpn4QD"
      },
      "source": [
        "import numpy as np\n",
        "import pandas as pd\n",
        "from sklearn.naive_bayes import GaussianNB\n",
        "from sklearn.preprocessing import LabelEncoder\n",
        "from sklearn.model_selection import train_test_split\n",
        "from sklearn.metrics import accuracy_score, confusion_matrix"
      ],
      "execution_count": 30,
      "outputs": []
    },
    {
      "cell_type": "code",
      "metadata": {
        "colab": {
          "base_uri": "https://localhost:8080/",
          "height": 206
        },
        "id": "UbBzhYUun4QM",
        "outputId": "ab5ea097-a5c3-43b6-be05-153d8e7ba8ec"
      },
      "source": [
        "#Import play_tennis\n",
        "play_tennis = pd.read_csv(\"PlayTennis.csv\")\n",
        "play_tennis.head()"
      ],
      "execution_count": 31,
      "outputs": [
        {
          "output_type": "execute_result",
          "data": {
            "text/html": [
              "<div>\n",
              "<style scoped>\n",
              "    .dataframe tbody tr th:only-of-type {\n",
              "        vertical-align: middle;\n",
              "    }\n",
              "\n",
              "    .dataframe tbody tr th {\n",
              "        vertical-align: top;\n",
              "    }\n",
              "\n",
              "    .dataframe thead th {\n",
              "        text-align: right;\n",
              "    }\n",
              "</style>\n",
              "<table border=\"1\" class=\"dataframe\">\n",
              "  <thead>\n",
              "    <tr style=\"text-align: right;\">\n",
              "      <th></th>\n",
              "      <th>Outlook</th>\n",
              "      <th>Temperature</th>\n",
              "      <th>Humidity</th>\n",
              "      <th>Wind</th>\n",
              "      <th>Play Tennis</th>\n",
              "    </tr>\n",
              "  </thead>\n",
              "  <tbody>\n",
              "    <tr>\n",
              "      <th>0</th>\n",
              "      <td>Sunny</td>\n",
              "      <td>Hot</td>\n",
              "      <td>High</td>\n",
              "      <td>Weak</td>\n",
              "      <td>No</td>\n",
              "    </tr>\n",
              "    <tr>\n",
              "      <th>1</th>\n",
              "      <td>Sunny</td>\n",
              "      <td>Hot</td>\n",
              "      <td>High</td>\n",
              "      <td>Strong</td>\n",
              "      <td>No</td>\n",
              "    </tr>\n",
              "    <tr>\n",
              "      <th>2</th>\n",
              "      <td>Overcast</td>\n",
              "      <td>Hot</td>\n",
              "      <td>High</td>\n",
              "      <td>Weak</td>\n",
              "      <td>Yes</td>\n",
              "    </tr>\n",
              "    <tr>\n",
              "      <th>3</th>\n",
              "      <td>Rain</td>\n",
              "      <td>Mild</td>\n",
              "      <td>High</td>\n",
              "      <td>Weak</td>\n",
              "      <td>Yes</td>\n",
              "    </tr>\n",
              "    <tr>\n",
              "      <th>4</th>\n",
              "      <td>Rain</td>\n",
              "      <td>Cool</td>\n",
              "      <td>Normal</td>\n",
              "      <td>Weak</td>\n",
              "      <td>Yes</td>\n",
              "    </tr>\n",
              "  </tbody>\n",
              "</table>\n",
              "</div>"
            ],
            "text/plain": [
              "    Outlook Temperature Humidity    Wind Play Tennis\n",
              "0     Sunny         Hot     High    Weak          No\n",
              "1     Sunny         Hot     High  Strong          No\n",
              "2  Overcast         Hot     High    Weak         Yes\n",
              "3      Rain        Mild     High    Weak         Yes\n",
              "4      Rain        Cool   Normal    Weak         Yes"
            ]
          },
          "metadata": {
            "tags": []
          },
          "execution_count": 31
        }
      ]
    },
    {
      "cell_type": "code",
      "metadata": {
        "id": "soH6yHtxn4QT"
      },
      "source": [
        "#A LabelEncoder converts a categorical data into a number ranging from 0 to n-1, where n is the number of classes in the variable.\n",
        "number = LabelEncoder()\n",
        "play_tennis['Outlook'] = number.fit_transform(play_tennis['Outlook'])\n",
        "play_tennis['Temperature'] = number.fit_transform(play_tennis['Temperature'])\n",
        "play_tennis['Humidity'] = number.fit_transform(play_tennis['Humidity'])\n",
        "play_tennis['Wind'] = number.fit_transform(play_tennis['Wind'])\n",
        "play_tennis['Play Tennis'] = number.fit_transform(play_tennis['Play Tennis'])\n"
      ],
      "execution_count": 32,
      "outputs": []
    },
    {
      "cell_type": "code",
      "metadata": {
        "id": "2HESdgCen4QX"
      },
      "source": [
        "#Define the features and the target variables.\n",
        "\n",
        "features = [\"Outlook\", \"Temperature\", \"Humidity\", \"Wind\"]\n",
        "target = \"Play Tennis\""
      ],
      "execution_count": 33,
      "outputs": []
    },
    {
      "cell_type": "code",
      "metadata": {
        "id": "yiAmteFfn4Qa"
      },
      "source": [
        "# Use SKLearn’s train_test_split to do data spliting\n",
        "\n",
        "features_train, features_test, target_train, target_test = train_test_split(play_tennis[features],play_tennis[target],\n",
        "test_size = 0.33,random_state = 54)"
      ],
      "execution_count": 34,
      "outputs": []
    },
    {
      "cell_type": "code",
      "metadata": {
        "colab": {
          "base_uri": "https://localhost:8080/"
        },
        "id": "Q-yEXk42n4Qc",
        "outputId": "3b71265d-fd92-4ed7-ba8a-a4b183bd8879"
      },
      "source": [
        "#Create the model now.\n",
        "\n",
        "model = GaussianNB()\n",
        "model.fit(features_train, target_train)"
      ],
      "execution_count": 35,
      "outputs": [
        {
          "output_type": "execute_result",
          "data": {
            "text/plain": [
              "GaussianNB(priors=None, var_smoothing=1e-09)"
            ]
          },
          "metadata": {
            "tags": []
          },
          "execution_count": 35
        }
      ]
    },
    {
      "cell_type": "code",
      "metadata": {
        "colab": {
          "base_uri": "https://localhost:8080/"
        },
        "id": "mDnBlQz_n4Qh",
        "outputId": "9f7ed626-e726-4e72-8f16-7e9080247960"
      },
      "source": [
        "#Make predictions on the test features.\n",
        "#Measure the performance of the model using accuracy score.\n",
        "#Accuracy score measure the number of right predictions.\n",
        "\n",
        "pred = model.predict(features_test)\n",
        "accuracy = accuracy_score(target_test, pred)\n",
        "print(confusion_matrix(target_test,pred))\n",
        "print(accuracy)"
      ],
      "execution_count": 36,
      "outputs": [
        {
          "output_type": "stream",
          "text": [
            "[[0 1]\n",
            " [0 4]]\n",
            "0.8\n"
          ],
          "name": "stdout"
        }
      ]
    },
    {
      "cell_type": "code",
      "metadata": {
        "colab": {
          "base_uri": "https://localhost:8080/"
        },
        "id": "yakSJQD1n4Qj",
        "outputId": "3ffea964-d72c-455f-ccf2-8f2c8e95b3d5"
      },
      "source": [
        "#Now suppose we want to predict for the conditions,\n",
        "#Outlook= Rain ,Temperature=Mild, Humidity=HIgh, Wind=Weak\n",
        "print(model.predict([[1,2,0,1]]))"
      ],
      "execution_count": 37,
      "outputs": [
        {
          "output_type": "stream",
          "text": [
            "[1]\n"
          ],
          "name": "stdout"
        }
      ]
    },
    {
      "cell_type": "code",
      "metadata": {
        "colab": {
          "base_uri": "https://localhost:8080/"
        },
        "id": "LDLf08U3n4Ql",
        "outputId": "33e9e6f8-76ba-4cbf-c7e8-d0568301c84c"
      },
      "source": [
        "import pandas as pd\r\n",
        "import numpy as np\r\n",
        "data = pd.DataFrame(data=pd.read_csv('Pgm 2 Tennis.csv'))\r\n",
        "concept = np.array(data.iloc[:,0:-1])\r\n",
        "target=np.array(data.iloc[:,-1])\r\n",
        "print(concept)\r\n",
        "print(target)"
      ],
      "execution_count": 24,
      "outputs": [
        {
          "output_type": "stream",
          "text": [
            "[[' Sunny' 'Warm' 'Normal' 'Strong' ' Warm' 'Same']\n",
            " [' Sunny' 'Warm' 'High' 'Strong' 'Warm' 'Same']\n",
            " [' Rainy' 'Cold' 'High' 'Strong' 'Warm' 'Change']\n",
            " [' Sunny' 'Warm' 'High' 'Strong' 'Cool' 'Change']]\n",
            "['Yes' 'Yes' 'No' 'Yes']\n"
          ],
          "name": "stdout"
        }
      ]
    },
    {
      "cell_type": "code",
      "metadata": {
        "id": "FxY7bOetn4Qn"
      },
      "source": [
        "def learn(concept,target):\r\n",
        "  s_h=concept[0].copy()\r\n",
        "  g_h=[[\"?\" for i in range(len(s_h))] for i in range(len(s_h))]\r\n",
        "  for i,h in enumerate(concept):\r\n",
        "    if target[i] == \"Yes\":\r\n",
        "      for k in range(len(s_h)):\r\n",
        "        if h[k]!=s_h[k]:\r\n",
        "          s_h[k]=\"?\"\r\n",
        "          g_h[k][k]=\"?\"\r\n",
        "    if target[i] == \"No\":\r\n",
        "      for k in range(len(s_h)):\r\n",
        "        if h[k]!=s_h[k]:\r\n",
        "          g_h[k][k]=s_h[k]\r\n",
        "        else:\r\n",
        "          g_h[k][k]=\"?\"\r\n",
        "    print(s_h)\r\n",
        "    print(g_h)\r\n",
        "  indices=[i for i,v in enumerate(g_h) if v==[\"?\",\"?\",\"?\",\"?\",\"?\",\"?\"]]\r\n",
        "  for i in indices:\r\n",
        "    g_h.remove([\"?\",\"?\",\"?\",\"?\",\"?\",\"?\"])\r\n",
        "  return s_h,g_h                   "
      ],
      "execution_count": 25,
      "outputs": []
    },
    {
      "cell_type": "code",
      "metadata": {
        "colab": {
          "base_uri": "https://localhost:8080/"
        },
        "id": "-7mq1IPxrDNt",
        "outputId": "5abb9b28-0862-46e5-b36e-c2f6dabfb618"
      },
      "source": [
        "s_h,g_h=learn(concept,target)\r\n",
        "print(\"version space is: \")\r\n",
        "print(s_h)\r\n",
        "print(g_h)"
      ],
      "execution_count": 26,
      "outputs": [
        {
          "output_type": "stream",
          "text": [
            "[' Sunny' 'Warm' 'Normal' 'Strong' ' Warm' 'Same']\n",
            "[['?', '?', '?', '?', '?', '?'], ['?', '?', '?', '?', '?', '?'], ['?', '?', '?', '?', '?', '?'], ['?', '?', '?', '?', '?', '?'], ['?', '?', '?', '?', '?', '?'], ['?', '?', '?', '?', '?', '?']]\n",
            "[' Sunny' 'Warm' '?' 'Strong' '?' 'Same']\n",
            "[['?', '?', '?', '?', '?', '?'], ['?', '?', '?', '?', '?', '?'], ['?', '?', '?', '?', '?', '?'], ['?', '?', '?', '?', '?', '?'], ['?', '?', '?', '?', '?', '?'], ['?', '?', '?', '?', '?', '?']]\n",
            "[' Sunny' 'Warm' '?' 'Strong' '?' 'Same']\n",
            "[[' Sunny', '?', '?', '?', '?', '?'], ['?', 'Warm', '?', '?', '?', '?'], ['?', '?', '?', '?', '?', '?'], ['?', '?', '?', '?', '?', '?'], ['?', '?', '?', '?', '?', '?'], ['?', '?', '?', '?', '?', 'Same']]\n",
            "[' Sunny' 'Warm' '?' 'Strong' '?' '?']\n",
            "[[' Sunny', '?', '?', '?', '?', '?'], ['?', 'Warm', '?', '?', '?', '?'], ['?', '?', '?', '?', '?', '?'], ['?', '?', '?', '?', '?', '?'], ['?', '?', '?', '?', '?', '?'], ['?', '?', '?', '?', '?', '?']]\n",
            "version space is: \n",
            "[' Sunny' 'Warm' '?' 'Strong' '?' '?']\n",
            "[[' Sunny', '?', '?', '?', '?', '?'], ['?', 'Warm', '?', '?', '?', '?']]\n"
          ],
          "name": "stdout"
        }
      ]
    }
  ]
}