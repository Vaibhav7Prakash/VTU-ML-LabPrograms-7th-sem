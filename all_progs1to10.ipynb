{
  "nbformat": 4,
  "nbformat_minor": 0,
  "metadata": {
    "colab": {
      "name": "all progs1to10.ipynb",
      "provenance": [],
      "collapsed_sections": [],
      "authorship_tag": "ABX9TyOt0skK5eZqi/Cv9g6LV66J",
      "include_colab_link": true
    },
    "kernelspec": {
      "display_name": "Python 3",
      "name": "python3"
    }
  },
  "cells": [
    {
      "cell_type": "markdown",
      "metadata": {
        "id": "view-in-github",
        "colab_type": "text"
      },
      "source": [
        "<a href=\"https://colab.research.google.com/github/shubhransh-gupta/VTU-ML-LabPrograms-7th-sem/blob/master/all_progs1to10.ipynb\" target=\"_parent\"><img src=\"https://colab.research.google.com/assets/colab-badge.svg\" alt=\"Open In Colab\"/></a>"
      ]
    },
    {
      "cell_type": "code",
      "metadata": {
        "colab": {
          "base_uri": "https://localhost:8080/"
        },
        "id": "0ogh-8t4cgme",
        "outputId": "63d44d11-be53-419e-8081-2e42333ac5e2"
      },
      "source": [
        "import csv\r\n",
        "with open('tennis.csv','r') as f:\r\n",
        "  reader=csv.reader(f)\r\n",
        "  you=list(reader)\r\n",
        "h=[['0','0','0','0','0','0']]\r\n",
        "for i in you:\r\n",
        "  if i[-1]==\"Yes\":\r\n",
        "    j=0\r\n",
        "    for x in i:\r\n",
        "      if x !=\"Yes\":\r\n",
        "        if x!= h[0][j] and h[0][j]==\"0\":\r\n",
        "          h[0][j]=x\r\n",
        "        elif x!=h[0][j] and h[0][j] !=\"0\":\r\n",
        "          h[0][j]=\"?\"\r\n",
        "        else:\r\n",
        "          pass\r\n",
        "        print(h)  \r\n",
        "      j=j+1\r\n",
        "print(\"\\n\")      \r\n",
        "print(h)                 "
      ],
      "execution_count": null,
      "outputs": [
        {
          "output_type": "stream",
          "text": [
            "[['sunny', '0', '0', '0', '0', '0']]\n",
            "[['sunny', 'warm', '0', '0', '0', '0']]\n",
            "[['sunny', 'warm', 'normal', '0', '0', '0']]\n",
            "[['sunny', 'warm', 'normal', 'strong', '0', '0']]\n",
            "[['sunny', 'warm', 'normal', 'strong', 'warm', '0']]\n",
            "[['sunny', 'warm', 'normal', 'strong', 'warm', 'same']]\n",
            "[['sunny', 'warm', 'normal', 'strong', 'warm', 'same']]\n",
            "[['sunny', 'warm', 'normal', 'strong', 'warm', 'same']]\n",
            "[['sunny', 'warm', '?', 'strong', 'warm', 'same']]\n",
            "[['sunny', 'warm', '?', 'strong', 'warm', 'same']]\n",
            "[['sunny', 'warm', '?', 'strong', 'warm', 'same']]\n",
            "[['sunny', 'warm', '?', 'strong', 'warm', 'same']]\n",
            "[['sunny', 'warm', '?', 'strong', 'warm', 'same']]\n",
            "[['sunny', 'warm', '?', 'strong', 'warm', 'same']]\n",
            "[['sunny', 'warm', '?', 'strong', 'warm', 'same']]\n",
            "[['sunny', 'warm', '?', 'strong', 'warm', 'same']]\n",
            "[['sunny', 'warm', '?', 'strong', '?', 'same']]\n",
            "[['sunny', 'warm', '?', 'strong', '?', '?']]\n",
            "\n",
            "\n",
            "[['sunny', 'warm', '?', 'strong', '?', '?']]\n"
          ],
          "name": "stdout"
        }
      ]
    },
    {
      "cell_type": "code",
      "metadata": {
        "colab": {
          "base_uri": "https://localhost:8080/"
        },
        "id": "nsXSRWrzEzME",
        "outputId": "af84ec9b-740b-41aa-c37f-f8d7318d8be7"
      },
      "source": [
        "#prgrm 1 \r\n",
        "import csv\r\n",
        "with open('tennis.csv','r')as file:\r\n",
        "  reader = csv.reader(file,delimiter=',')\r\n",
        "  data=[]\r\n",
        "  for row in reader:\r\n",
        "    print(row)\r\n",
        "    if row[len(row)-1].upper()==\"YES\":\r\n",
        "      data.append(row)\r\n",
        "  print(data)\r\n",
        "  hypo=[\"0\",\"0\",\"0\",\"0\",\"0\",\"0\"]\r\n",
        "  list=[]\r\n",
        "  for i in range(len(data[0])-1):\r\n",
        "    list.append(data[0][i])\r\n",
        "  hypo=list\r\n",
        "  for i in range(0,len(data)):\r\n",
        "    for k in range(0,len(data[0])-1):\r\n",
        "      if hypo[k] != data[i][k]:\r\n",
        "        hypo[k]=\"?\"\r\n",
        "        k=k+1\r\n",
        "      else:\r\n",
        "        hypo[k]\r\n",
        "      \r\n",
        "    print(hypo)\r\n",
        "    i=i+1\r\n",
        "  print(hypo)           "
      ],
      "execution_count": null,
      "outputs": [
        {
          "output_type": "stream",
          "text": [
            "['sunny', 'warm', 'normal', 'strong', 'warm', 'same', 'Yes']\n",
            "['sunny', 'warm', 'high', 'strong', 'warm', 'same', 'Yes']\n",
            "['rainy', 'cold', 'high', 'strong', 'warm', 'change', 'No']\n",
            "['sunny', 'warm', 'high', 'strong', 'cool', 'change', 'Yes']\n",
            "[['sunny', 'warm', 'normal', 'strong', 'warm', 'same', 'Yes'], ['sunny', 'warm', 'high', 'strong', 'warm', 'same', 'Yes'], ['sunny', 'warm', 'high', 'strong', 'cool', 'change', 'Yes']]\n",
            "['sunny', 'warm', 'normal', 'strong', 'warm', 'same']\n",
            "['sunny', 'warm', '?', 'strong', 'warm', 'same']\n",
            "['sunny', 'warm', '?', 'strong', '?', '?']\n",
            "['sunny', 'warm', '?', 'strong', '?', '?']\n"
          ],
          "name": "stdout"
        }
      ]
    },
    {
      "cell_type": "code",
      "metadata": {
        "colab": {
          "base_uri": "https://localhost:8080/"
        },
        "id": "A5YBlVc_PH58",
        "outputId": "af7d67bc-fe55-453b-8d87-7e13b807862f"
      },
      "source": [
        "#prgrm 2\r\n",
        "import pandas as pd\r\n",
        "import numpy as np\r\n",
        "data= pd.DataFrame(data=pd.read_csv('tennis.csv'))\r\n",
        "concept = np.array(data.iloc[:,0:-1])\r\n",
        "target = np.array(data.iloc[:,-1])\r\n",
        "\r\n",
        "def learn(concept,target):\r\n",
        "  s_h=concept[0].copy()\r\n",
        "  print(s_h)\r\n",
        "  g_h=[[\"?\" for i in range(len(s_h))]for i in range(len(s_h)) ]\r\n",
        "  print(g_h)\r\n",
        "  for i in range(len(concept)):\r\n",
        "    if target[i].upper()==\"YES\":\r\n",
        "      for j in range(len(s_h)):\r\n",
        "        if concept[i][j]!=s_h[j]:\r\n",
        "         s_h[j]=\"?\"\r\n",
        "         g_h[j][j]=\"?\"\r\n",
        "    if target[i].upper()==\"NO\":\r\n",
        "      for j in range(len(s_h)):\r\n",
        "        if concept[i][j] != s_h[j]:\r\n",
        "         g_h[j][j]=s_h[j]\r\n",
        "        else:\r\n",
        "          g_h[j][j]=\"?\"\r\n",
        "  indices=[i for i,v in enumerate(g_h) if v==[\"?\",\"?\",\"?\",\"?\",\"?\",\"?\"]]\r\n",
        "  for i in indices:\r\n",
        "     g_h.remove([\"?\",\"?\",\"?\",\"?\",\"?\",\"?\"])\r\n",
        "  return s_h,g_h          \r\n",
        "         \r\n",
        "\r\n",
        "\r\n",
        "s_h,g_h=learn(concept,target)\r\n",
        "print(s_h)\r\n",
        "print(g_h)\r\n"
      ],
      "execution_count": null,
      "outputs": [
        {
          "output_type": "stream",
          "text": [
            "['sunny' 'warm' 'high' 'strong' 'warm' 'same']\n",
            "[['?', '?', '?', '?', '?', '?'], ['?', '?', '?', '?', '?', '?'], ['?', '?', '?', '?', '?', '?'], ['?', '?', '?', '?', '?', '?'], ['?', '?', '?', '?', '?', '?'], ['?', '?', '?', '?', '?', '?']]\n",
            "['sunny' 'warm' 'high' 'strong' '?' '?']\n",
            "[['sunny', '?', '?', '?', '?', '?'], ['?', 'warm', '?', '?', '?', '?']]\n"
          ],
          "name": "stdout"
        }
      ]
    },
    {
      "cell_type": "code",
      "metadata": {
        "colab": {
          "base_uri": "https://localhost:8080/"
        },
        "id": "0r5OZbLbVzgb",
        "outputId": "b1758bc8-3840-4a49-9350-2ee69c667ae6"
      },
      "source": [
        "#pgrm 4\r\n",
        "import numpy as np\r\n",
        "x=np.array(([2,9],[1,5],[3,6]),dtype=float)\r\n",
        "y=np.array(([92],[86],[89]),dtype=float)\r\n",
        "x=x/(np.amax(x,axis=0))\r\n",
        "y=y/100\r\n",
        "def sigmoid(x):\r\n",
        "  return (1 /(1 + np.exp(-x)))\r\n",
        "def sig_grad(x):\r\n",
        "  return (x*(1-x))  \r\n",
        "epoc=1000\r\n",
        "i_n=2\r\n",
        "h_n=3\r\n",
        "o_n=1\r\n",
        "eta=0.2\r\n",
        "wh=np.random.uniform(size=(i_n,h_n))\r\n",
        "bh=np.random.uniform(size=(1,h_n))\r\n",
        "wout=np.random.uniform(size=(h_n,o_n))\r\n",
        "bout=np.random.uniform(size=(1,o_n))\r\n",
        "\r\n",
        "for i in range(epoc):\r\n",
        "  e1= np.dot(x,wh)+ bh\r\n",
        "  h_act=sigmoid(e1)\r\n",
        "  e2= np.dot(h_act,wout)+ bout\r\n",
        "  output = sigmoid(e2)\r\n",
        "\r\n",
        "  er = y-output\r\n",
        "  h_out= sig_grad(output)\r\n",
        "  d_out= er*h_out\r\n",
        "  b1= d_out.dot(wout.T)\r\n",
        "  h_hid= sig_grad(h_act)\r\n",
        "  d_hid= b1*h_hid\r\n",
        "\r\n",
        "  wout += h_act.T.dot(d_out)*eta\r\n",
        "  wh += x.T.dot(d_hid)*eta\r\n",
        "\r\n",
        "  \r\n",
        "\r\n",
        "print(\"input \\n\"+ str(x))\r\n",
        "print(\"output \\n\"+ str(y))\r\n",
        "print(\"prediction \\n\", output)\r\n",
        "\r\n"
      ],
      "execution_count": null,
      "outputs": [
        {
          "output_type": "stream",
          "text": [
            "input \n",
            "[[0.66666667 1.        ]\n",
            " [0.33333333 0.55555556]\n",
            " [1.         0.66666667]]\n",
            "output \n",
            "[[0.92]\n",
            " [0.86]\n",
            " [0.89]]\n",
            "prediction \n",
            " [[0.89689408]\n",
            " [0.87780228]\n",
            " [0.89466224]]\n"
          ],
          "name": "stdout"
        }
      ]
    },
    {
      "cell_type": "code",
      "metadata": {
        "colab": {
          "base_uri": "https://localhost:8080/"
        },
        "id": "zXxU4_Z0fXDp",
        "outputId": "4e17d482-aa27-45cd-a12d-198195730253"
      },
      "source": [
        "#pgm 9\r\n",
        "import pandas as pd\r\n",
        "from sklearn.datasets import load_iris\r\n",
        "from sklearn.neighbors import KNeighborsClassifier\r\n",
        "from sklearn.model_selection import train_test_split\r\n",
        "\r\n",
        "iris = load_iris()\r\n",
        "x_train, x_test, y_train,y_test = train_test_split(iris.data,iris.target,test_size=0.2)\r\n",
        "model=KNeighborsClassifier(n_neighbors=3)\r\n",
        "model.fit(x_train,y_train)\r\n",
        "pred = model.predict(x_test)\r\n",
        "\r\n",
        "for i in range(0,len(x_test)):\r\n",
        "  print(\"label :\"+ str(iris.data[i]) + \"input: \"+ str(x_test[i])+ \"output: \"+ str(y_test[i])+ \"prediction : \"+ str(pred[i]))\r\n",
        "\r\n"
      ],
      "execution_count": null,
      "outputs": [
        {
          "output_type": "stream",
          "text": [
            "label :[5.1 3.5 1.4 0.2]input: [6.2 3.4 5.4 2.3]output: 2prediction : 2\n",
            "label :[4.9 3.  1.4 0.2]input: [6.5 3.  5.2 2. ]output: 2prediction : 2\n",
            "label :[4.7 3.2 1.3 0.2]input: [6.3 2.5 4.9 1.5]output: 1prediction : 2\n",
            "label :[4.6 3.1 1.5 0.2]input: [5.7 3.  4.2 1.2]output: 1prediction : 1\n",
            "label :[5.  3.6 1.4 0.2]input: [4.9 2.4 3.3 1. ]output: 1prediction : 1\n",
            "label :[5.4 3.9 1.7 0.4]input: [6.1 2.8 4.7 1.2]output: 1prediction : 1\n",
            "label :[4.6 3.4 1.4 0.3]input: [4.7 3.2 1.6 0.2]output: 0prediction : 0\n",
            "label :[5.  3.4 1.5 0.2]input: [5.8 2.7 5.1 1.9]output: 2prediction : 2\n",
            "label :[4.4 2.9 1.4 0.2]input: [5.  2.  3.5 1. ]output: 1prediction : 1\n",
            "label :[4.9 3.1 1.5 0.1]input: [4.9 3.6 1.4 0.1]output: 0prediction : 0\n",
            "label :[5.4 3.7 1.5 0.2]input: [5.7 2.9 4.2 1.3]output: 1prediction : 1\n",
            "label :[4.8 3.4 1.6 0.2]input: [6.1 2.8 4.  1.3]output: 1prediction : 1\n",
            "label :[4.8 3.  1.4 0.1]input: [5.8 2.6 4.  1.2]output: 1prediction : 1\n",
            "label :[4.3 3.  1.1 0.1]input: [5.  2.3 3.3 1. ]output: 1prediction : 1\n",
            "label :[5.8 4.  1.2 0.2]input: [4.9 3.1 1.5 0.2]output: 0prediction : 0\n",
            "label :[5.7 4.4 1.5 0.4]input: [6.7 3.3 5.7 2.5]output: 2prediction : 2\n",
            "label :[5.4 3.9 1.3 0.4]input: [4.9 3.  1.4 0.2]output: 0prediction : 0\n",
            "label :[5.1 3.5 1.4 0.3]input: [5.  3.6 1.4 0.2]output: 0prediction : 0\n",
            "label :[5.7 3.8 1.7 0.3]input: [6.7 3.1 4.4 1.4]output: 1prediction : 1\n",
            "label :[5.1 3.8 1.5 0.3]input: [6.5 3.  5.5 1.8]output: 2prediction : 2\n",
            "label :[5.4 3.4 1.7 0.2]input: [5.1 3.8 1.5 0.3]output: 0prediction : 0\n",
            "label :[5.1 3.7 1.5 0.4]input: [5.1 2.5 3.  1.1]output: 1prediction : 1\n",
            "label :[4.6 3.6 1.  0.2]input: [4.8 3.4 1.6 0.2]output: 0prediction : 0\n",
            "label :[5.1 3.3 1.7 0.5]input: [6.5 3.2 5.1 2. ]output: 2prediction : 2\n",
            "label :[4.8 3.4 1.9 0.2]input: [5.6 2.8 4.9 2. ]output: 2prediction : 2\n",
            "label :[5.  3.  1.6 0.2]input: [7.7 2.8 6.7 2. ]output: 2prediction : 2\n",
            "label :[5.  3.4 1.6 0.4]input: [5.1 3.5 1.4 0.2]output: 0prediction : 0\n",
            "label :[5.2 3.5 1.5 0.2]input: [5.2 3.5 1.5 0.2]output: 0prediction : 0\n",
            "label :[5.2 3.4 1.4 0.2]input: [7.7 3.8 6.7 2.2]output: 2prediction : 2\n",
            "label :[4.7 3.2 1.6 0.2]input: [6.  3.4 4.5 1.6]output: 1prediction : 1\n"
          ],
          "name": "stdout"
        }
      ]
    },
    {
      "cell_type": "code",
      "metadata": {
        "colab": {
          "base_uri": "https://localhost:8080/",
          "height": 1000
        },
        "id": "y6z9Wjx8jX_i",
        "outputId": "bfafd0b9-b5b3-481a-b30d-ce4a896e3409"
      },
      "source": [
        "#pgm 8\r\n",
        "from sklearn.datasets import load_iris\r\n",
        "from sklearn.mixture import GaussianMixture\r\n",
        "from sklearn.cluster import KMeans\r\n",
        "import numpy as np\r\n",
        "import matplotlib.pyplot as plt\r\n",
        "import pandas as pd\r\n",
        "iris=load_iris()\r\n",
        "x= pd.DataFrame(iris.data)\r\n",
        "x.columns=[\"Sepal_length\",\"Sepal_width\",\"Petal_length\",\"Petal_width\"]\r\n",
        "y=pd.DataFrame(iris.target)\r\n",
        "y.columns=['Target']\r\n",
        "\r\n",
        "model = KMeans(n_clusters=3)\r\n",
        "model.fit(x)\r\n",
        "plt.figure(figsize=(14,14))\r\n",
        "colormap=np.array(['Red','Lime','Black'])\r\n",
        "plt.subplot(2,2,1)\r\n",
        "plt.scatter(x.Petal_length,x.Petal_width,c=colormap[y.Target],s=40)\r\n",
        "plt.xlabel(\"Petal Length\")\r\n",
        "plt.ylabel(\"Petal Width\")\r\n",
        "plt.title(\"Real classifier\")\r\n",
        "plt.subplot(2,2,2)\r\n",
        "plt.scatter(x.Petal_length,x.Petal_width,c=colormap[model.labels_],s=40)\r\n",
        "plt.xlabel(\"Petal Length\")\r\n",
        "plt.ylabel(\"Petal Width\")\r\n",
        "plt.title(\"Kmeans classifier\")\r\n",
        "print(model.labels_)\r\n",
        "from sklearn import preprocessing\r\n",
        "scalar = preprocessing.StandardScaler()\r\n",
        "scalar.fit(x)\r\n",
        "xsa=scalar.transform(x)\r\n",
        "\r\n",
        "xs= pd.DataFrame(xsa,columns=x.columns)\r\n",
        "plt.figure(figsize=(14,14))\r\n",
        "colormap=np.array(['Red','Lime','Black'])\r\n",
        "gbb= GaussianMixture(n_components=3)\r\n",
        "gbb.fit(xs)\r\n",
        "pred=gbb.predict(xs)\r\n",
        "plt.subplot(2,2,3)\r\n",
        "plt.scatter(x.Petal_length,x.Petal_width,c=colormap[pred],s=40)\r\n",
        "plt.xlabel(\"Petal Length\")\r\n",
        "plt.ylabel(\"Petal Width\")\r\n",
        "plt.title(\"EM classifier\")\r\n",
        "print(pred)"
      ],
      "execution_count": null,
      "outputs": [
        {
          "output_type": "stream",
          "text": [
            "[1 1 1 1 1 1 1 1 1 1 1 1 1 1 1 1 1 1 1 1 1 1 1 1 1 1 1 1 1 1 1 1 1 1 1 1 1\n",
            " 1 1 1 1 1 1 1 1 1 1 1 1 1 0 0 2 0 0 0 0 0 0 0 0 0 0 0 0 0 0 0 0 0 0 0 0 0\n",
            " 0 0 0 2 0 0 0 0 0 0 0 0 0 0 0 0 0 0 0 0 0 0 0 0 0 0 2 0 2 2 2 2 0 2 2 2 2\n",
            " 2 2 0 0 2 2 2 2 0 2 0 2 0 2 2 0 0 2 2 2 2 2 0 2 2 2 2 0 2 2 2 0 2 2 2 0 2\n",
            " 2 0]\n",
            "[0 0 0 0 0 0 0 0 0 0 0 0 0 0 0 0 0 0 0 0 0 0 0 0 0 0 0 0 0 0 0 0 0 0 0 0 0\n",
            " 0 0 0 0 0 0 0 0 0 0 0 0 0 2 2 2 2 2 2 2 2 2 2 2 2 2 2 2 2 2 2 1 2 1 2 1 2\n",
            " 2 2 2 1 2 2 2 2 2 1 2 2 2 2 2 2 2 2 2 2 2 2 2 2 2 2 1 1 1 1 1 1 1 1 1 1 1\n",
            " 1 1 1 1 1 1 1 1 1 1 1 1 1 1 1 1 1 1 1 1 1 1 1 1 1 1 1 1 1 1 1 1 1 1 1 1 1\n",
            " 1 1]\n"
          ],
          "name": "stdout"
        },
        {
          "output_type": "display_data",
          "data": {
            "image/png": "[encoded data removed]",
            "text/plain": [
              "<Figure size 1008x1008 with 2 Axes>"
            ]
          },
          "metadata": {
            "tags": []
          }
        },
        {
          "output_type": "display_data",
          "data": {
            "image/png": "[encoded data removed]",
            "text/plain": [
              "<Figure size 1008x1008 with 1 Axes>"
            ]
          },
          "metadata": {
            "tags": []
          }
        }
      ]
    },
    {
      "cell_type": "code",
      "metadata": {
        "colab": {
          "base_uri": "https://localhost:8080/"
        },
        "id": "-EWaWWbPztWz",
        "outputId": "e4425083-6cd2-4cf2-a4fd-6387ab68e4e3"
      },
      "source": [
        "#pgm 4 --rehersal\r\n",
        "import numpy as np\r\n",
        "x = np.array(([2,9],[1,5],[3,6]),dtype=float)\r\n",
        "y= np.array(([92],[87],[89]),dtype=float)\r\n",
        "\r\n",
        "x=x/(np.amax(x,axis=0))\r\n",
        "y=y/100\r\n",
        "def sigmoid(x):\r\n",
        "  return 1/(1+np.exp(-x))\r\n",
        "def sig_grad(x):\r\n",
        "  return x*(1-x)  \r\n",
        "\r\n",
        "epocs=100\r\n",
        "eta=0.2\r\n",
        "i_n=2\r\n",
        "h_n=3\r\n",
        "o_n=1\r\n",
        "\r\n",
        "wh=np.random.uniform(size=(i_n,h_n))\r\n",
        "bh=np.random.uniform(size=(1,h_n))\r\n",
        "wout=np.random.uniform(size=(h_n,o_n))\r\n",
        "bout=np.random.uniform(size=(1,o_n))\r\n",
        "\r\n",
        "for i in range(epocs):\r\n",
        "  f1 = np.dot(x,wh) + bh\r\n",
        "  h_act= sigmoid(f1)\r\n",
        "  f2 = np.dot(h_act,wout) + bout\r\n",
        "  output = sigmoid(f2)\r\n",
        "\r\n",
        "  e0 = y-output\r\n",
        "  h_out= sig_grad(output)\r\n",
        "  d_out= e0*h_out\r\n",
        "  e2= d_out.dot(wout.T)\r\n",
        "  h_hid= sig_grad(h_act)\r\n",
        "  d_hid = e2*h_hid\r\n",
        "  wout += h_act.T.dot(d_out) * eta\r\n",
        "  wh += x.T.dot(d_hid)*eta\r\n",
        "\r\n",
        "print(\"input : \" + str(x))\r\n",
        "print(\"actual : \"+ str(y))\r\n",
        "print(\"predicted :\",output)\r\n",
        "\r\n",
        "\r\n"
      ],
      "execution_count": null,
      "outputs": [
        {
          "output_type": "stream",
          "text": [
            "input : [[0.66666667 1.        ]\n",
            " [0.33333333 0.55555556]\n",
            " [1.         0.66666667]]\n",
            "actual : [[0.92]\n",
            " [0.87]\n",
            " [0.89]]\n",
            "predicted : [[0.89758134]\n",
            " [0.88756706]\n",
            " [0.89725412]]\n"
          ],
          "name": "stdout"
        }
      ]
    },
    {
      "cell_type": "code",
      "metadata": {
        "colab": {
          "base_uri": "https://localhost:8080/",
          "height": 247
        },
        "id": "P72_oe6LHJ3J",
        "outputId": "bfe994ac-26a7-4195-eb0a-98710186d534"
      },
      "source": [
        "#pgm 6\r\n",
        "import pandas as pd\r\n",
        "msg = pd.read_csv('c1.csv',names=['message','labels'])\r\n",
        "msg[\"labelnum\"]=msg.labels.map({'pos':1,'neg':0})\r\n",
        "x=msg.message\r\n",
        "y=msg.labelnum\r\n",
        "from sklearn.model_selection import train_test_split\r\n",
        "x_train,x_test,y_train,y_test=train_test_split(x,y)\r\n",
        "from sklearn.feature_extraction.text import CountVectorizer\r\n",
        "ext = CountVectorizer()\r\n",
        "cc=ext.fit_transform(x_train)\r\n",
        "cc_pred=ext.transform(x_test)\r\n",
        "cc=pd.replace(np.nan, 0)\r\n",
        "from sklearn.naive_bayes import MultinomialNB\r\n",
        "nb= MultinomialNB()\r\n",
        "nb.fit(cc,y_train)\r\n",
        "predi=nb.predict(cc_pred)\r\n",
        "\r\n",
        "for x,d in zip(x_train,predi):\r\n",
        "  d == 'pred' if d== 1 else 'neg'\r\n",
        "  print(\"%s -> %s\"%(x,d))\r\n",
        "from sklearn.metrics import confusion_matrix, accuracy_score, recall_score, precision_score\r\n",
        "print('Accuracy Metrics: \\n')\r\n",
        "print('Accuracy: ', accuracy_score(y_test, predi))\r\n",
        "print('Recall: ', recall_score(y_test, predi))\r\n",
        "print('Precision: ', precision_score(y_test, predi))\r\n",
        "print('Confusion Matrix: \\n', confusion_matrix(y_test, predi))  "
      ],
      "execution_count": null,
      "outputs": [
        {
          "output_type": "error",
          "ename": "AttributeError",
          "evalue": "ignored",
          "traceback": [
            "\u001b[0;31m---------------------------------------------------------------------------\u001b[0m",
            "\u001b[0;31mAttributeError\u001b[0m                            Traceback (most recent call last)",
            "\u001b[0;32m<ipython-input-10-acbe4686922c>\u001b[0m in \u001b[0;36m<module>\u001b[0;34m()\u001b[0m\n\u001b[1;32m     11\u001b[0m \u001b[0mcc\u001b[0m\u001b[0;34m=\u001b[0m\u001b[0mext\u001b[0m\u001b[0;34m.\u001b[0m\u001b[0mfit_transform\u001b[0m\u001b[0;34m(\u001b[0m\u001b[0mx_train\u001b[0m\u001b[0;34m)\u001b[0m\u001b[0;34m\u001b[0m\u001b[0;34m\u001b[0m\u001b[0m\n\u001b[1;32m     12\u001b[0m \u001b[0mcc_pred\u001b[0m\u001b[0;34m=\u001b[0m\u001b[0mext\u001b[0m\u001b[0;34m.\u001b[0m\u001b[0mtransform\u001b[0m\u001b[0;34m(\u001b[0m\u001b[0mx_test\u001b[0m\u001b[0;34m)\u001b[0m\u001b[0;34m\u001b[0m\u001b[0;34m\u001b[0m\u001b[0m\n\u001b[0;32m---> 13\u001b[0;31m \u001b[0mcc\u001b[0m\u001b[0;34m=\u001b[0m\u001b[0mpd\u001b[0m\u001b[0;34m.\u001b[0m\u001b[0mreplace\u001b[0m\u001b[0;34m(\u001b[0m\u001b[0mnp\u001b[0m\u001b[0;34m.\u001b[0m\u001b[0mnan\u001b[0m\u001b[0;34m,\u001b[0m \u001b[0;36m0\u001b[0m\u001b[0;34m)\u001b[0m\u001b[0;34m\u001b[0m\u001b[0;34m\u001b[0m\u001b[0m\n\u001b[0m\u001b[1;32m     14\u001b[0m \u001b[0;32mfrom\u001b[0m \u001b[0msklearn\u001b[0m\u001b[0;34m.\u001b[0m\u001b[0mnaive_bayes\u001b[0m \u001b[0;32mimport\u001b[0m \u001b[0mMultinomialNB\u001b[0m\u001b[0;34m\u001b[0m\u001b[0;34m\u001b[0m\u001b[0m\n\u001b[1;32m     15\u001b[0m \u001b[0mnb\u001b[0m\u001b[0;34m=\u001b[0m \u001b[0mMultinomialNB\u001b[0m\u001b[0;34m(\u001b[0m\u001b[0;34m)\u001b[0m\u001b[0;34m\u001b[0m\u001b[0;34m\u001b[0m\u001b[0m\n",
            "\u001b[0;31mAttributeError\u001b[0m: module 'pandas' has no attribute 'replace'"
          ]
        }
      ]
    },
    {
      "cell_type": "code",
      "metadata": {
        "colab": {
          "base_uri": "https://localhost:8080/",
          "height": 530
        },
        "id": "VRvOuw9o3DcO",
        "outputId": "c12c3185-bca6-4e7b-f927-ccd38420bf50"
      },
      "source": [
        "import pandas as pd\r\n",
        "msg = pd.read_csv('Pgm 6 PlayTennis.csv', names=['message', 'label'])\r\n",
        "print(\"Total Instances of Dataset: \", msg.shape[0])\r\n",
        "msg['labelnum'] = msg.label.map({'pos': 1, 'neg': 0})\r\n",
        "\r\n",
        "X = msg.message\r\n",
        "y = msg.labelnum\r\n",
        "from sklearn.model_selection import train_test_split\r\n",
        "Xtrain, Xtest, ytrain, ytest = train_test_split(X, y)\r\n",
        "from sklearn.feature_extraction.text import CountVectorizer\r\n",
        "\r\n",
        "count_v = CountVectorizer()\r\n",
        "Xtrain_dm = count_v.fit_transform(Xtrain)\r\n",
        "Xtest_dm = count_v.transform(Xtest)\r\n",
        "\r\n",
        "df = pd.DataFrame(Xtrain_dm.toarray(),columns=count_v.get_feature_names())\r\n",
        "print(df[0:5])\r\n",
        "\r\n",
        "from sklearn.naive_bayes import MultinomialNB\r\n",
        "clf = MultinomialNB()\r\n",
        "clf.fit(Xtrain_dm, ytrain)\r\n",
        "pred = clf.predict(Xtest_dm)\r\n",
        "\r\n",
        "for doc, p in zip(Xtrain, pred):\r\n",
        "    p = 'pos' if p == 1 else 'neg'\r\n",
        "    print(\"%s -> %s\" % (doc, p))\r\n",
        "\r\n",
        "from sklearn.metrics import accuracy_score, confusion_matrix, precision_score, recall_score\r\n",
        "print('Accuracy Metrics: \\n')\r\n",
        "print('Accuracy: ', accuracy_score(ytest, pred))\r\n",
        "print('Recall: ', recall_score(ytest, pred))\r\n",
        "print('Precision: ', precision_score(ytest, pred))\r\n",
        "print('Confusion Matrix: \\n', confusion_matrix(ytest, pred))"
      ],
      "execution_count": null,
      "outputs": [
        {
          "output_type": "stream",
          "text": [
            "Total Instances of Dataset:  15\n",
            "   strong  weak  wind\n",
            "0       0     1     0\n",
            "1       0     1     0\n",
            "2       0     0     1\n",
            "3       1     0     0\n",
            "4       1     0     0\n"
          ],
          "name": "stdout"
        },
        {
          "output_type": "error",
          "ename": "ValueError",
          "evalue": "ignored",
          "traceback": [
            "\u001b[0;31m---------------------------------------------------------------------------\u001b[0m",
            "\u001b[0;31mValueError\u001b[0m                                Traceback (most recent call last)",
            "\u001b[0;32m<ipython-input-14-f0ef9f3bf8a7>\u001b[0m in \u001b[0;36m<module>\u001b[0;34m()\u001b[0m\n\u001b[1;32m     19\u001b[0m \u001b[0;32mfrom\u001b[0m \u001b[0msklearn\u001b[0m\u001b[0;34m.\u001b[0m\u001b[0mnaive_bayes\u001b[0m \u001b[0;32mimport\u001b[0m \u001b[0mMultinomialNB\u001b[0m\u001b[0;34m\u001b[0m\u001b[0;34m\u001b[0m\u001b[0m\n\u001b[1;32m     20\u001b[0m \u001b[0mclf\u001b[0m \u001b[0;34m=\u001b[0m \u001b[0mMultinomialNB\u001b[0m\u001b[0;34m(\u001b[0m\u001b[0;34m)\u001b[0m\u001b[0;34m\u001b[0m\u001b[0;34m\u001b[0m\u001b[0m\n\u001b[0;32m---> 21\u001b[0;31m \u001b[0mclf\u001b[0m\u001b[0;34m.\u001b[0m\u001b[0mfit\u001b[0m\u001b[0;34m(\u001b[0m\u001b[0mXtrain_dm\u001b[0m\u001b[0;34m,\u001b[0m \u001b[0mytrain\u001b[0m\u001b[0;34m)\u001b[0m\u001b[0;34m\u001b[0m\u001b[0;34m\u001b[0m\u001b[0m\n\u001b[0m\u001b[1;32m     22\u001b[0m \u001b[0mpred\u001b[0m \u001b[0;34m=\u001b[0m \u001b[0mclf\u001b[0m\u001b[0;34m.\u001b[0m\u001b[0mpredict\u001b[0m\u001b[0;34m(\u001b[0m\u001b[0mXtest_dm\u001b[0m\u001b[0;34m)\u001b[0m\u001b[0;34m\u001b[0m\u001b[0;34m\u001b[0m\u001b[0m\n\u001b[1;32m     23\u001b[0m \u001b[0;34m\u001b[0m\u001b[0m\n",
            "\u001b[0;32m/usr/local/lib/python3.6/dist-packages/sklearn/naive_bayes.py\u001b[0m in \u001b[0;36mfit\u001b[0;34m(self, X, y, sample_weight)\u001b[0m\n\u001b[1;32m    607\u001b[0m         \u001b[0mself\u001b[0m \u001b[0;34m:\u001b[0m \u001b[0mobject\u001b[0m\u001b[0;34m\u001b[0m\u001b[0;34m\u001b[0m\u001b[0m\n\u001b[1;32m    608\u001b[0m         \"\"\"\n\u001b[0;32m--> 609\u001b[0;31m         \u001b[0mX\u001b[0m\u001b[0;34m,\u001b[0m \u001b[0my\u001b[0m \u001b[0;34m=\u001b[0m \u001b[0mself\u001b[0m\u001b[0;34m.\u001b[0m\u001b[0m_check_X_y\u001b[0m\u001b[0;34m(\u001b[0m\u001b[0mX\u001b[0m\u001b[0;34m,\u001b[0m \u001b[0my\u001b[0m\u001b[0;34m)\u001b[0m\u001b[0;34m\u001b[0m\u001b[0;34m\u001b[0m\u001b[0m\n\u001b[0m\u001b[1;32m    610\u001b[0m         \u001b[0m_\u001b[0m\u001b[0;34m,\u001b[0m \u001b[0mn_features\u001b[0m \u001b[0;34m=\u001b[0m \u001b[0mX\u001b[0m\u001b[0;34m.\u001b[0m\u001b[0mshape\u001b[0m\u001b[0;34m\u001b[0m\u001b[0;34m\u001b[0m\u001b[0m\n\u001b[1;32m    611\u001b[0m         \u001b[0mself\u001b[0m\u001b[0;34m.\u001b[0m\u001b[0mn_features_\u001b[0m \u001b[0;34m=\u001b[0m \u001b[0mn_features\u001b[0m\u001b[0;34m\u001b[0m\u001b[0;34m\u001b[0m\u001b[0m\n",
            "\u001b[0;32m/usr/local/lib/python3.6/dist-packages/sklearn/naive_bayes.py\u001b[0m in \u001b[0;36m_check_X_y\u001b[0;34m(self, X, y)\u001b[0m\n\u001b[1;32m    473\u001b[0m \u001b[0;34m\u001b[0m\u001b[0m\n\u001b[1;32m    474\u001b[0m     \u001b[0;32mdef\u001b[0m \u001b[0m_check_X_y\u001b[0m\u001b[0;34m(\u001b[0m\u001b[0mself\u001b[0m\u001b[0;34m,\u001b[0m \u001b[0mX\u001b[0m\u001b[0;34m,\u001b[0m \u001b[0my\u001b[0m\u001b[0;34m)\u001b[0m\u001b[0;34m:\u001b[0m\u001b[0;34m\u001b[0m\u001b[0;34m\u001b[0m\u001b[0m\n\u001b[0;32m--> 475\u001b[0;31m         \u001b[0;32mreturn\u001b[0m \u001b[0mcheck_X_y\u001b[0m\u001b[0;34m(\u001b[0m\u001b[0mX\u001b[0m\u001b[0;34m,\u001b[0m \u001b[0my\u001b[0m\u001b[0;34m,\u001b[0m \u001b[0maccept_sparse\u001b[0m\u001b[0;34m=\u001b[0m\u001b[0;34m'csr'\u001b[0m\u001b[0;34m)\u001b[0m\u001b[0;34m\u001b[0m\u001b[0;34m\u001b[0m\u001b[0m\n\u001b[0m\u001b[1;32m    476\u001b[0m \u001b[0;34m\u001b[0m\u001b[0m\n\u001b[1;32m    477\u001b[0m     \u001b[0;32mdef\u001b[0m \u001b[0m_update_class_log_prior\u001b[0m\u001b[0;34m(\u001b[0m\u001b[0mself\u001b[0m\u001b[0;34m,\u001b[0m \u001b[0mclass_prior\u001b[0m\u001b[0;34m=\u001b[0m\u001b[0;32mNone\u001b[0m\u001b[0;34m)\u001b[0m\u001b[0;34m:\u001b[0m\u001b[0;34m\u001b[0m\u001b[0;34m\u001b[0m\u001b[0m\n",
            "\u001b[0;32m/usr/local/lib/python3.6/dist-packages/sklearn/utils/validation.py\u001b[0m in \u001b[0;36mcheck_X_y\u001b[0;34m(X, y, accept_sparse, accept_large_sparse, dtype, order, copy, force_all_finite, ensure_2d, allow_nd, multi_output, ensure_min_samples, ensure_min_features, y_numeric, warn_on_dtype, estimator)\u001b[0m\n\u001b[1;32m    759\u001b[0m     \u001b[0;32melse\u001b[0m\u001b[0;34m:\u001b[0m\u001b[0;34m\u001b[0m\u001b[0;34m\u001b[0m\u001b[0m\n\u001b[1;32m    760\u001b[0m         \u001b[0my\u001b[0m \u001b[0;34m=\u001b[0m \u001b[0mcolumn_or_1d\u001b[0m\u001b[0;34m(\u001b[0m\u001b[0my\u001b[0m\u001b[0;34m,\u001b[0m \u001b[0mwarn\u001b[0m\u001b[0;34m=\u001b[0m\u001b[0;32mTrue\u001b[0m\u001b[0;34m)\u001b[0m\u001b[0;34m\u001b[0m\u001b[0;34m\u001b[0m\u001b[0m\n\u001b[0;32m--> 761\u001b[0;31m         \u001b[0m_assert_all_finite\u001b[0m\u001b[0;34m(\u001b[0m\u001b[0my\u001b[0m\u001b[0;34m)\u001b[0m\u001b[0;34m\u001b[0m\u001b[0;34m\u001b[0m\u001b[0m\n\u001b[0m\u001b[1;32m    762\u001b[0m     \u001b[0;32mif\u001b[0m \u001b[0my_numeric\u001b[0m \u001b[0;32mand\u001b[0m \u001b[0my\u001b[0m\u001b[0;34m.\u001b[0m\u001b[0mdtype\u001b[0m\u001b[0;34m.\u001b[0m\u001b[0mkind\u001b[0m \u001b[0;34m==\u001b[0m \u001b[0;34m'O'\u001b[0m\u001b[0;34m:\u001b[0m\u001b[0;34m\u001b[0m\u001b[0;34m\u001b[0m\u001b[0m\n\u001b[1;32m    763\u001b[0m         \u001b[0my\u001b[0m \u001b[0;34m=\u001b[0m \u001b[0my\u001b[0m\u001b[0;34m.\u001b[0m\u001b[0mastype\u001b[0m\u001b[0;34m(\u001b[0m\u001b[0mnp\u001b[0m\u001b[0;34m.\u001b[0m\u001b[0mfloat64\u001b[0m\u001b[0;34m)\u001b[0m\u001b[0;34m\u001b[0m\u001b[0;34m\u001b[0m\u001b[0m\n",
            "\u001b[0;32m/usr/local/lib/python3.6/dist-packages/sklearn/utils/validation.py\u001b[0m in \u001b[0;36m_assert_all_finite\u001b[0;34m(X, allow_nan, msg_dtype)\u001b[0m\n\u001b[1;32m     58\u001b[0m                     \u001b[0mmsg_err\u001b[0m\u001b[0;34m.\u001b[0m\u001b[0mformat\u001b[0m\u001b[0;34m\u001b[0m\u001b[0;34m\u001b[0m\u001b[0m\n\u001b[1;32m     59\u001b[0m                     (type_err,\n\u001b[0;32m---> 60\u001b[0;31m                      msg_dtype if msg_dtype is not None else X.dtype)\n\u001b[0m\u001b[1;32m     61\u001b[0m             )\n\u001b[1;32m     62\u001b[0m     \u001b[0;31m# for object dtype data, we only check for NaNs (GH-13254)\u001b[0m\u001b[0;34m\u001b[0m\u001b[0;34m\u001b[0m\u001b[0;34m\u001b[0m\u001b[0m\n",
            "\u001b[0;31mValueError\u001b[0m: Input contains NaN, infinity or a value too large for dtype('float64')."
          ]
        }
      ]
    },
    {
      "cell_type": "code",
      "metadata": {
        "colab": {
          "background_save": true,
          "base_uri": "https://localhost:8080/",
          "height": 135
        },
        "id": "8B1C8Zb-4u-s",
        "outputId": "10d444bc-2ddf-4163-c956-645d6650dbf5"
      },
      "source": [
        "#pgm7\r\n",
        "\r\n",
        "\r\n"
      ],
      "execution_count": null,
      "outputs": [
        {
          "output_type": "stream",
          "text": [
            "Collecting pgmpy\n",
            "\u001b[?25l  Downloading https://files.pythonhosted.org/packages/06/19/d508949e8ac7b32e639f15e854a5f5ed710a4118e4f6692bddaccc390d88/pgmpy-0.1.13-py3-none-any.whl (324kB)\n",
            "\u001b[K     |████████████████████████████████| 327kB 3.6MB/s \n",
            "\u001b[?25hRequirement already satisfied: torch in /usr/local/lib/python3.6/dist-packages (from pgmpy) (1.7.0+cu101)\n",
            "Requirement already satisfied: scikit-learn in /usr/local/lib/python3.6/dist-packages (from pgmpy) (0.22.2.post1)\n",
            "Requirement already satisfied: scipy in /usr/local/lib/python3.6/dist-packages (from pgmpy) (1.4.1)\n",
            "Requirement already satisfied: statsmodels in /usr/local/lib/python3.6/dist-packages (from pgmpy) (0.10.2)\n",
            "Requirement already satisfied: numpy in /usr/local/lib/python3.6/dist-packages (from pgmpy) (1.19.5)\n",
            "Requirement already satisfied: joblib in /usr/local/lib/python3.6/dist-packages (from pgmpy) (1.0.0)\n",
            "Requirement already satisfied: pyparsing in /usr/local/lib/python3.6/dist-packages (from pgmpy) (2.4.7)\n",
            "Requirement already satisfied: pandas in /usr/local/lib/python3.6/dist-packages (from pgmpy) (1.1.5)\n",
            "Requirement already satisfied: networkx in /usr/local/lib/python3.6/dist-packages (from pgmpy) (2.5)\n",
            "Requirement already satisfied: tqdm in /usr/local/lib/python3.6/dist-packages (from pgmpy) (4.41.1)\n",
            "Requirement already satisfied: future in /usr/local/lib/python3.6/dist-packages (from torch->pgmpy) (0.16.0)\n",
            "Requirement already satisfied: typing-extensions in /usr/local/lib/python3.6/dist-packages (from torch->pgmpy) (3.7.4.3)\n",
            "Requirement already satisfied: dataclasses in /usr/local/lib/python3.6/dist-packages (from torch->pgmpy) (0.8)\n",
            "Requirement already satisfied: patsy>=0.4.0 in /usr/local/lib/python3.6/dist-packages (from statsmodels->pgmpy) (0.5.1)\n",
            "Requirement already satisfied: python-dateutil>=2.7.3 in /usr/local/lib/python3.6/dist-packages (from pandas->pgmpy) (2.8.1)\n",
            "Requirement already satisfied: pytz>=2017.2 in /usr/local/lib/python3.6/dist-packages (from pandas->pgmpy) (2018.9)\n",
            "Requirement already satisfied: decorator>=4.3.0 in /usr/local/lib/python3.6/dist-packages (from networkx->pgmpy) (4.4.2)\n",
            "Requirement already satisfied: six in /usr/local/lib/python3.6/dist-packages (from patsy>=0.4.0->statsmodels->pgmpy) (1.15.0)\n",
            "Installing collected packages: pgmpy\n",
            "Successfully installed pgmpy-0.1.13\n"
          ],
          "name": "stdout"
        }
      ]
    },
    {
      "cell_type": "code",
      "metadata": {
        "colab": {
          "base_uri": "https://localhost:8080/",
          "height": 136
        },
        "id": "l_W7zQOwq6fX",
        "outputId": "5221280e-de81-47bc-ba9c-e284a9df65f3"
      },
      "source": [
        "import numpy as np\r\n",
        "def split(ratio,data):\r\n",
        "  index=int(ratio*len(data))\r\n",
        "  return data[:index,:],data[index:,:]\r\n",
        "data=np.genfromtxt('tennis.csv',delimiter=',',skip_header=1,dtype='str')\r\n",
        "train,test=split(0.85,data)\r\n",
        "print(\"Train set: \\n{0}\\n\".format(train))\r\n",
        "print(\"Test set: \\n{0}\\n\".format(test))\r\n",
        "n=train.shape[0]\r\n",
        "target,idx=np.unique(train[:,-1],return_inverse=True)\r\n",
        "target_count=np.bincount(idx)\r\n",
        "target_prob=target_count/float(n)\r\n",
        "target_dict= {k:vfork, vinzip(target, target_count)}\r\n",
        "print(\"target\\tcount\\tprobablity\\n\")\r\n",
        "for i,j,k in zip(target,target_count,target_prob):\r\n",
        "  print(\"{0}\\t{1}\\t{2}\".format(i,j,k))\r\n",
        "\r\n",
        "values,idx=np.unique(train[:,:-1],return_inverse=True)\r\n",
        "counts=np.bincount(idx)\r\n",
        "#feature probability\r\n",
        "d= {k: {'total': float(v),'yes':0.0,'no':0.0} for k, v in zip(values, counts)}\r\n",
        "print(\"\\nDict for each feature:\\n\")\r\n",
        "for row in train:\r\n",
        "  for attrib in row[:-1]:\r\n",
        "    if(row[-1]=='yes'):\r\n",
        "      d[attrib]['yes']+=1\r\n"
      ],
      "execution_count": null,
      "outputs": [
        {
          "output_type": "error",
          "ename": "SyntaxError",
          "evalue": "ignored",
          "traceback": [
            "\u001b[0;36m  File \u001b[0;32m\"<ipython-input-4-1cec451db9d9>\"\u001b[0;36m, line \u001b[0;32m13\u001b[0m\n\u001b[0;31m    target_dict= {k:vfork, vinzip(target, target_count)}\u001b[0m\n\u001b[0m                                                       ^\u001b[0m\n\u001b[0;31mSyntaxError\u001b[0m\u001b[0;31m:\u001b[0m invalid syntax\n"
          ]
        }
      ]
    },
    {
      "cell_type": "code",
      "metadata": {
        "colab": {
          "base_uri": "https://localhost:8080/"
        },
        "id": "B0tipFCI5xD7",
        "outputId": "0a0dfb74-f2c0-4e34-d331-407e20f7ffed"
      },
      "source": [
        "import csv, random, math\r\n",
        "import statistics as st\r\n",
        "\r\n",
        "def loadCsv(filename):\r\n",
        "    lines = csv.reader(open(filename, \"r\"));\r\n",
        "    dataset = list(lines)\r\n",
        "    for i in range(len(dataset)):\r\n",
        "        dataset[i] = [float(x) for x in dataset[i]] \r\n",
        "    return dataset\r\n",
        "\r\n",
        "def splitDataset(dataset, splitRatio): \r\n",
        "    testSize = int(len(dataset) * splitRatio); \r\n",
        "    trainSet = list(dataset);\r\n",
        "    testSet = []\r\n",
        "    while len(testSet) < testSize:\r\n",
        "    #randomly pick an instance from training data \r\n",
        "        index = random.randrange(len(trainSet)); \r\n",
        "        testSet.append(trainSet.pop(index))\r\n",
        "    return [trainSet, testSet]\r\n",
        "\r\n",
        "#Create a dictionary of classes 1 and 0 where the values are the #instacnes belonging to each class\r\n",
        "\r\n",
        "def separateByClass(dataset): \r\n",
        "    separated = {}\r\n",
        "    for i in range(len(dataset)):\r\n",
        "        x = dataset[i]\r\n",
        "        if (x[-1] not in separated): \r\n",
        "            separated[x[-1]] = []\r\n",
        "        separated[x[-1]].append(x)\r\n",
        "    return separated\r\n",
        "\r\n",
        "def compute_mean_std(dataset):\r\n",
        "    mean_std = [ (st.mean(attribute), st.stdev(attribute))\r\n",
        "        for attribute in zip(*dataset)]; #zip(*res) transposes a matrix (2-d array/list) \r\n",
        "    del mean_std[-1] # Exclude label\r\n",
        "    return mean_std\r\n",
        "\r\n",
        "def summarizeByClass(dataset):\r\n",
        "    separated = separateByClass(dataset);\r\n",
        "    summary = {} # to store mean and std of +ve and -ve instances \r\n",
        "    for classValue, instances in separated.items():\r\n",
        "    #summaries is a dictionary of tuples(mean,std) for each class value \r\n",
        "        summary[classValue] = compute_mean_std(instances)\r\n",
        "    return summary\r\n",
        "\r\n",
        "#For continuous attributes p is estimated using Gaussion distribution \r\n",
        "def estimateProbability(x, mean, stdev):\r\n",
        "    exponent = math.exp(-(math.pow(x-mean,2)/(2*math.pow(stdev,2)))) \r\n",
        "    return (1 / (math.sqrt(2*math.pi) * stdev)) * exponent\r\n",
        "\r\n",
        "def calculateClassProbabilities(summaries, testVector):\r\n",
        "    p = {}\r\n",
        "    #class and attribute information as mean and sd\r\n",
        "    for classValue, classSummaries in summaries.items():\r\n",
        "        p[classValue] = 1\r\n",
        "        for i in range(len(classSummaries)):\r\n",
        "            mean, stdev = classSummaries[i]\r\n",
        "            x = testVector[i] #testvector's first attribute #use normal distribution\r\n",
        "            p[classValue] *= estimateProbability(x, mean, stdev);\r\n",
        "    return p\r\n",
        "\r\n",
        "\r\n",
        "def predict(summaries, testVector):\r\n",
        "    all_p = calculateClassProbabilities(summaries, testVector)\r\n",
        "    bestLabel, bestProb = None, -1\r\n",
        "    for lbl, p in all_p.items():#assigns that class which has he highest prob \r\n",
        "        if bestLabel is None or p > bestProb:\r\n",
        "            bestProb = p\r\n",
        "            bestLabel = lbl\r\n",
        "    return bestLabel\r\n",
        "\r\n",
        "def perform_classification(summaries, testSet):\r\n",
        "    predictions = []\r\n",
        "    for i in range(len(testSet)):\r\n",
        "        result = predict(summaries, testSet[i])\r\n",
        "        predictions.append(result)\r\n",
        "    return predictions\r\n",
        "\r\n",
        "def getAccuracy(testSet, predictions):\r\n",
        "    correct = 0\r\n",
        "    for i in range(len(testSet)):\r\n",
        "        if testSet[i][-1] == predictions[i]: \r\n",
        "            correct += 1\r\n",
        "    return (correct/float(len(testSet))) * 100.0\r\n",
        "\r\n",
        "dataset = loadCsv('diabetes.csv');\r\n",
        "print('Pima Indian Diabetes Dataset loaded...') \r\n",
        "print('Total instances available :',len(dataset))\r\n",
        "print('Total attributes present :',len(dataset[0])-1)\r\n",
        "\r\n",
        "print(\"First Five instances of dataset:\") \r\n",
        "for i in range(5):\r\n",
        "    print(i+1 , ':' , dataset[i])\r\n",
        "\r\n",
        "splitRatio = 0.2\r\n",
        "trainingSet, testSet = splitDataset(dataset, splitRatio) \r\n",
        "print('\\nDataset is split into training and testing set.')\r\n",
        "print('Training examples = {0} \\nTesting examples = {1}'.format(len(trainingSet),\r\n",
        "len(testSet)))\r\n",
        "summaries = summarizeByClass(trainingSet);\r\n",
        "predictions = perform_classification(summaries, testSet)\r\n",
        "\r\n",
        "accuracy = getAccuracy(testSet, predictions)\r\n",
        "print('\\nAccuracy of the Naive Baysian Classifier is :', accuracy)"
      ],
      "execution_count": null,
      "outputs": [
        {
          "output_type": "stream",
          "text": [
            "Pima Indian Diabetes Dataset loaded...\n",
            "Total instances available : 768\n",
            "Total attributes present : 8\n",
            "First Five instances of dataset:\n",
            "1 : [6.0, 148.0, 72.0, 35.0, 0.0, 33.6, 0.627, 50.0, 1.0]\n",
            "2 : [1.0, 85.0, 66.0, 29.0, 0.0, 26.6, 0.351, 31.0, 0.0]\n",
            "3 : [8.0, 183.0, 64.0, 0.0, 0.0, 23.3, 0.672, 32.0, 1.0]\n",
            "4 : [1.0, 89.0, 66.0, 23.0, 94.0, 28.1, 0.167, 21.0, 0.0]\n",
            "5 : [0.0, 137.0, 40.0, 35.0, 168.0, 43.1, 2.288, 33.0, 1.0]\n",
            "\n",
            "Dataset is split into training and testing set.\n",
            "Training examples = 615 \n",
            "Testing examples = 153\n",
            "\n",
            "Accuracy of the Naive Baysian Classifier is : 71.24183006535948\n"
          ],
          "name": "stdout"
        }
      ]
    },
    {
      "cell_type": "code",
      "metadata": {
        "colab": {
          "base_uri": "https://localhost:8080/",
          "height": 283
        },
        "id": "sDSc7F65oJ3-",
        "outputId": "9f8af603-3139-40dc-98e9-e3c2585c7c99"
      },
      "source": [
        "#pgm10\r\n",
        "import math\r\n",
        "from math import ceil\r\n",
        "from scipy import linalg\r\n",
        "import numpy as np\r\n",
        "def learns(x,y,f,it):\r\n",
        "  n=len(x)\r\n",
        "  r=int(ceil(f*n))\r\n",
        "  h= [np.sort(np.abs(x-x[i]))[r] for i in range(n)]\r\n",
        "  w= np.clip(np.abs((x[:,None]-x[None,:])/h),0.0,1.0)\r\n",
        "  w=(1-w**3)**3\r\n",
        "  yest=np.zeros(n)\r\n",
        "  delta=np.ones(n)\r\n",
        "  for it in range(it):\r\n",
        "    for i in range(n):\r\n",
        "      weight= delta*w[:,i]\r\n",
        "      b=np.array([np.sum(weight*y),np.sum(weight*y*x)])\r\n",
        "      A= np.array([[np.sum(weight),np.sum(weight*x)],[np.sum(weight*x),np.sum(weight*x*x)]])\r\n",
        "      beta=linalg.solve(A,b)\r\n",
        "      yest[i]=beta[0]+beta[1]*x[i]\r\n",
        "\r\n",
        "    res=y-yest\r\n",
        "    s= np.median(np.abs(res))\r\n",
        "    delta=np.clip(res/(6.0*s),-1,1)\r\n",
        "    delta=(1-delta**2)**2\r\n",
        "  return yest\r\n",
        "\r\n",
        "\r\n",
        "\r\n",
        "\r\n",
        "\r\n",
        "n=100\r\n",
        "x=np.linspace(0,2*math.pi,n)\r\n",
        "y= np.cos(x)+0.3*np.random.randn(n)\r\n",
        "f=0.25\r\n",
        "it=3\r\n",
        "y_pred=learns(x,y,f,it)\r\n",
        "import matplotlib.pyplot as plt\r\n",
        "plt.plot(x,y,'r.')\r\n",
        "plt.plot(x,y_pred,'b-')\r\n"
      ],
      "execution_count": null,
      "outputs": [
        {
          "output_type": "execute_result",
          "data": {
            "text/plain": [
              "[<matplotlib.lines.Line2D at 0x7f3ace9d7390>]"
            ]
          },
          "metadata": {
            "tags": []
          },
          "execution_count": 19
        },
        {
          "output_type": "display_data",
          "data": {
            "image/png": "[encoded data removed]",
            "text/plain": [
              "<Figure size 432x288 with 1 Axes>"
            ]
          },
          "metadata": {
            "tags": [],
            "needs_background": "light"
          }
        }
      ]
    },
    {
      "cell_type": "code",
      "metadata": {
        "colab": {
          "base_uri": "https://localhost:8080/"
        },
        "id": "3Y0fqSVbs8aR",
        "outputId": "56a03fd8-1c09-4828-a2ce-62ebbc21d493"
      },
      "source": [
        "#pgm9\r\n",
        "import pandas as pd\r\n",
        "from sklearn.neighbors import KNeighborsClassifier\r\n",
        "from sklearn.datasets import load_iris\r\n",
        "from sklearn.model_selection import train_test_split\r\n",
        "dati=load_iris()\r\n",
        "x_train,x_test,y_train,y_test= train_test_split(dati.data,dati.target,test_size=0.2)\r\n",
        "knn= KNeighborsClassifier(n_neighbors=3)\r\n",
        "knn.fit(x_train,y_train)\r\n",
        "pres= knn.predict(x_test)\r\n",
        "\r\n",
        "for i in range(0,len(x_test)):\r\n",
        "  print(\"Actaul input: \"+str(x_test[i])+\"   Actual output: \"+str(y_test[i])+\"  Prediction: \"+str(pres[i]))\r\n"
      ],
      "execution_count": null,
      "outputs": [
        {
          "output_type": "stream",
          "text": [
            "Actaul input: [6.7 3.1 5.6 2.4]   Actual output: 2  Prediction: 2\n",
            "Actaul input: [6.  2.2 4.  1. ]   Actual output: 1  Prediction: 1\n",
            "Actaul input: [5.7 2.5 5.  2. ]   Actual output: 2  Prediction: 2\n",
            "Actaul input: [6.7 3.3 5.7 2.1]   Actual output: 2  Prediction: 2\n",
            "Actaul input: [5.6 2.5 3.9 1.1]   Actual output: 1  Prediction: 1\n",
            "Actaul input: [6.8 2.8 4.8 1.4]   Actual output: 1  Prediction: 1\n",
            "Actaul input: [5.1 3.8 1.5 0.3]   Actual output: 0  Prediction: 0\n",
            "Actaul input: [6.9 3.2 5.7 2.3]   Actual output: 2  Prediction: 2\n",
            "Actaul input: [6.5 3.  5.8 2.2]   Actual output: 2  Prediction: 2\n",
            "Actaul input: [6.  3.4 4.5 1.6]   Actual output: 1  Prediction: 1\n",
            "Actaul input: [6.3 2.9 5.6 1.8]   Actual output: 2  Prediction: 2\n",
            "Actaul input: [6.  2.9 4.5 1.5]   Actual output: 1  Prediction: 1\n",
            "Actaul input: [6.  2.7 5.1 1.6]   Actual output: 1  Prediction: 2\n",
            "Actaul input: [6.5 2.8 4.6 1.5]   Actual output: 1  Prediction: 1\n",
            "Actaul input: [4.6 3.1 1.5 0.2]   Actual output: 0  Prediction: 0\n",
            "Actaul input: [6.3 2.5 5.  1.9]   Actual output: 2  Prediction: 2\n",
            "Actaul input: [6.4 2.7 5.3 1.9]   Actual output: 2  Prediction: 2\n",
            "Actaul input: [5.  3.2 1.2 0.2]   Actual output: 0  Prediction: 0\n",
            "Actaul input: [6.1 2.6 5.6 1.4]   Actual output: 2  Prediction: 2\n",
            "Actaul input: [5.4 3.9 1.7 0.4]   Actual output: 0  Prediction: 0\n",
            "Actaul input: [4.4 2.9 1.4 0.2]   Actual output: 0  Prediction: 0\n",
            "Actaul input: [4.8 3.1 1.6 0.2]   Actual output: 0  Prediction: 0\n",
            "Actaul input: [6.4 3.2 4.5 1.5]   Actual output: 1  Prediction: 1\n",
            "Actaul input: [5.4 3.4 1.5 0.4]   Actual output: 0  Prediction: 0\n",
            "Actaul input: [6.2 2.9 4.3 1.3]   Actual output: 1  Prediction: 1\n",
            "Actaul input: [5.4 3.  4.5 1.5]   Actual output: 1  Prediction: 1\n",
            "Actaul input: [5.5 2.4 3.7 1. ]   Actual output: 1  Prediction: 1\n",
            "Actaul input: [4.4 3.  1.3 0.2]   Actual output: 0  Prediction: 0\n",
            "Actaul input: [5.  3.5 1.3 0.3]   Actual output: 0  Prediction: 0\n",
            "Actaul input: [5.1 3.4 1.5 0.2]   Actual output: 0  Prediction: 0\n"
          ],
          "name": "stdout"
        }
      ]
    },
    {
      "cell_type": "code",
      "metadata": {
        "colab": {
          "base_uri": "https://localhost:8080/",
          "height": 1000
        },
        "id": "F_Zu0iYKxCSK",
        "outputId": "df11fa2d-ee57-4ec0-b4d5-29a9e523646c"
      },
      "source": [
        "#pgm 8\r\n",
        "import pandas as pd\r\n",
        "from sklearn.datasets import load_iris\r\n",
        "from sklearn.mixture import GaussianMixture\r\n",
        "from sklearn.cluster import KMeans\r\n",
        "from sklearn.model_selection import train_test_split\r\n",
        "import matplotlib.pyplot as plt\r\n",
        "iris=load_iris()\r\n",
        "x= pd.DataFrame(iris.data)\r\n",
        "x.columns =['Sepal-Length','Sepal-Width','Petal_Length','Petal_Width']\r\n",
        "y=pd.DataFrame(iris.target)\r\n",
        "y.columns=['Target']\r\n",
        "plt.figure(figsize=(14,14))\r\n",
        "colormap=np.array(['Red','Lime','Black'])\r\n",
        "plt.subplot(2,2,1)\r\n",
        "plt.scatter(x.Petal_Length,x.Petal_Width,c=colormap[y.Target],s=40)\r\n",
        "plt.xlabel(\"Petal-Length\")\r\n",
        "plt.ylabel(\"Petal-Width\")\r\n",
        "plt.title(\"Real Classification\")\r\n",
        "model=KMeans(n_clusters=3)\r\n",
        "pred=model.fit(x)\r\n",
        "\r\n",
        "colormap=np.array(['Lime','Red','Black'])\r\n",
        "plt.subplot(2,2,2)\r\n",
        "plt.scatter(x.Petal_Length,x.Petal_Width,c=colormap[pred.labels_],s=40)\r\n",
        "plt.xlabel(\"Petal-Length\")\r\n",
        "plt.ylabel(\"Petal-Width\")\r\n",
        "plt.title(\"KMeans Classification\")\r\n",
        "\r\n",
        "from sklearn import preprocessing\r\n",
        "pre=preprocessing.StandardScaler()\r\n",
        "pre.fit(x)\r\n",
        "xsa=pre.transform(x)\r\n",
        "xsa_=pd.DataFrame(xsa,columns=x.columns)\r\n",
        "plt.figure(figsize=(14,14))\r\n",
        "colormap=np.array(['Red','Lime','Black'])\r\n",
        "gbb= GaussianMixture(n_components=3)\r\n",
        "gbb.fit(xsa)\r\n",
        "preda=gbb.predict(xsa) \r\n",
        "plt.subplot(2,2,3)\r\n",
        "plt.scatter(x.Petal_Length,x.Petal_Width,c=colormap[preda],s=40)\r\n",
        "plt.xlabel(\"Petal-Length\")\r\n",
        "plt.ylabel(\"Petal-Width\")\r\n",
        "plt.title(\"EM Classification\")\r\n",
        "print(preda)\r\n",
        "print(pred.labels_)"
      ],
      "execution_count": null,
      "outputs": [
        {
          "output_type": "stream",
          "text": [
            "[1 1 1 1 1 1 1 1 1 1 1 1 1 1 1 1 1 1 1 1 1 1 1 1 1 1 1 1 1 1 1 1 1 1 1 1 1\n",
            " 1 1 1 1 1 1 1 1 1 1 1 1 1 2 2 2 2 2 2 2 2 2 2 2 2 2 2 2 2 2 2 0 2 0 2 0 2\n",
            " 2 2 2 0 2 2 2 2 2 0 2 2 2 2 2 2 2 2 2 2 2 2 2 2 2 2 0 0 0 0 0 0 0 0 0 0 0\n",
            " 0 0 0 0 0 0 0 0 0 0 0 0 0 0 0 0 0 0 0 0 0 0 0 0 0 0 0 0 0 0 0 0 0 0 0 0 0\n",
            " 0 0]\n",
            "[1 1 1 1 1 1 1 1 1 1 1 1 1 1 1 1 1 1 1 1 1 1 1 1 1 1 1 1 1 1 1 1 1 1 1 1 1\n",
            " 1 1 1 1 1 1 1 1 1 1 1 1 1 0 0 2 0 0 0 0 0 0 0 0 0 0 0 0 0 0 0 0 0 0 0 0 0\n",
            " 0 0 0 2 0 0 0 0 0 0 0 0 0 0 0 0 0 0 0 0 0 0 0 0 0 0 2 0 2 2 2 2 0 2 2 2 2\n",
            " 2 2 0 0 2 2 2 2 0 2 0 2 0 2 2 0 0 2 2 2 2 2 0 2 2 2 2 0 2 2 2 0 2 2 2 0 2\n",
            " 2 0]\n"
          ],
          "name": "stdout"
        },
        {
          "output_type": "display_data",
          "data": {
            "image/png": "[encoded data removed]",
            "text/plain": [
              "<Figure size 1008x1008 with 2 Axes>"
            ]
          },
          "metadata": {
            "tags": [],
            "needs_background": "light"
          }
        },
        {
          "output_type": "display_data",
          "data": {
            "image/png": "[encoded data removed]",
            "text/plain": [
              "<Figure size 1008x1008 with 1 Axes>"
            ]
          },
          "metadata": {
            "tags": [],
            "needs_background": "light"
          }
        }
      ]
    },
    {
      "cell_type": "code",
      "metadata": {
        "colab": {
          "base_uri": "https://localhost:8080/"
        },
        "id": "7048J43e5hN7",
        "outputId": "2ed9fb8c-8f19-4539-b2a6-ba3c00b4cb9b"
      },
      "source": [
        "import csv\r\n",
        "with open('Pgm 1 Tennis Dataset.csv','r') as file:\r\n",
        "  read= csv.reader(file,delimiter=',')\r\n",
        "  data=[]\r\n",
        "  for row in read:\r\n",
        "    print(row)\r\n",
        "    if row[len(row)-1].upper()==\"YES\":\r\n",
        "      data.append(row)\r\n",
        "  print(data)\r\n",
        "  hypo=['%','%','%','%','%','%']\r\n",
        "  list=[]\r\n",
        "  print(hypo)\r\n",
        "  for i in range(len(data[0])-1):\r\n",
        "    list.append(data[0][i])\r\n",
        "  hypo=list \r\n",
        "  for i in range(len(data)):\r\n",
        "    for k in range(len(data[0])-1):\r\n",
        "      if hypo[k] !=  data[i][k]:\r\n",
        "        hypo[k]='?'\r\n",
        "        k=k+1\r\n",
        "      else:\r\n",
        "        hypo[k]\r\n",
        "    print(hypo)\r\n",
        "  print(\"Specific hypothesis using Find S is:\") \r\n",
        "  print(hypo)        \r\n",
        "\r\n"
      ],
      "execution_count": null,
      "outputs": [
        {
          "output_type": "stream",
          "text": [
            "['day', 'outlook', 'temp', 'humidity', 'wind', 'play']\n",
            "['D1', 'Sunny', 'Hot', 'High', 'Weak', 'No']\n",
            "['D2', 'Sunny', 'Hot', 'High', 'Strong', 'No']\n",
            "['D3', 'Overcast', 'Hot', 'High', 'Weak', 'Yes']\n",
            "['D4', 'Rain', 'Mild', 'High', 'Weak', 'Yes']\n",
            "['D5', 'Rain', 'Cool', 'Normal', 'Weak', 'Yes']\n",
            "['D6', 'Rain', 'Cool', 'Normal', 'Strong', 'No']\n",
            "['D7', 'Overcast', 'Cool', 'Normal', 'Strong', 'Yes']\n",
            "['D8', 'Sunny', 'Mild', 'High', 'Weak', 'No']\n",
            "['D9', 'Sunny', 'Cool', 'Normal', 'Weak', 'Yes']\n",
            "['D10', 'Rain', 'Mild', 'Normal', 'Weak', 'Yes']\n",
            "['D11', 'Sunny', 'Mild', 'Normal', 'Strong', 'Yes']\n",
            "['D12', 'Overcast', 'Mild', 'High', 'Strong', 'Yes']\n",
            "['D13', 'Overcast', 'Hot', 'Normal', 'Weak', 'Yes']\n",
            "['D14', 'Rain', 'Mild', 'High', 'Strong', 'No']\n",
            "[['D3', 'Overcast', 'Hot', 'High', 'Weak', 'Yes'], ['D4', 'Rain', 'Mild', 'High', 'Weak', 'Yes'], ['D5', 'Rain', 'Cool', 'Normal', 'Weak', 'Yes'], ['D7', 'Overcast', 'Cool', 'Normal', 'Strong', 'Yes'], ['D9', 'Sunny', 'Cool', 'Normal', 'Weak', 'Yes'], ['D10', 'Rain', 'Mild', 'Normal', 'Weak', 'Yes'], ['D11', 'Sunny', 'Mild', 'Normal', 'Strong', 'Yes'], ['D12', 'Overcast', 'Mild', 'High', 'Strong', 'Yes'], ['D13', 'Overcast', 'Hot', 'Normal', 'Weak', 'Yes']]\n",
            "['%', '%', '%', '%', '%', '%']\n",
            "['D3', 'Overcast', 'Hot', 'High', 'Weak']\n",
            "['?', '?', '?', 'High', 'Weak']\n",
            "['?', '?', '?', '?', 'Weak']\n",
            "['?', '?', '?', '?', '?']\n",
            "['?', '?', '?', '?', '?']\n",
            "['?', '?', '?', '?', '?']\n",
            "['?', '?', '?', '?', '?']\n",
            "['?', '?', '?', '?', '?']\n",
            "['?', '?', '?', '?', '?']\n",
            "Specific hypothesis using Find S is:\n",
            "['?', '?', '?', '?', '?']\n"
          ],
          "name": "stdout"
        }
      ]
    },
    {
      "cell_type": "code",
      "metadata": {
        "colab": {
          "base_uri": "https://localhost:8080/"
        },
        "id": "9-9a72f_ti8q",
        "outputId": "b3d08046-45b8-4ca3-ff71-f15a39ab78ad"
      },
      "source": [
        "import pandas as pd\r\n",
        "import numpy as np\r\n",
        "data= pd.DataFrame(data=pd.read_csv('Pgm 2 Tennis.csv'))\r\n",
        "concept = np.array(data.iloc[:,0:-1])\r\n",
        "target = np.array(data.iloc[:,-1])\r\n",
        "\r\n",
        "def learn1(concept,target):\r\n",
        "  s_h=concept[0].copy()\r\n",
        "  print(s_h)\r\n",
        "  g_h=[[\"?\" for i in range(len(s_h))]for i in range(len(s_h)) ]\r\n",
        "  print(g_h)\r\n",
        "  for i in range(len(concept)):\r\n",
        "    if target[i].upper()==\"YES\":\r\n",
        "      for j in range(len(s_h)):\r\n",
        "        if concept[i][j]!=s_h[j]:\r\n",
        "         s_h[j]=\"?\"\r\n",
        "         g_h[j][j]=\"?\"\r\n",
        "    if target[i].upper()==\"NO\":\r\n",
        "      for j in range(len(s_h)):\r\n",
        "        if concept[i][j] != s_h[j]:\r\n",
        "         g_h[j][j]=s_h[j]\r\n",
        "        else:\r\n",
        "          g_h[j][j]=\"?\"\r\n",
        "    print(s_h)\r\n",
        "    print(g_h)      \r\n",
        "  indices=[i for i,v in enumerate(g_h) if v==[\"?\",\"?\",\"?\",\"?\",\"?\",\"?\"]]\r\n",
        "  for i in indices:\r\n",
        "     g_h.remove([\"?\",\"?\",\"?\",\"?\",\"?\",\"?\"])\r\n",
        "  return s_h,g_h          \r\n",
        "\r\n",
        "s_h,g_h=learn1(concept,target)\r\n",
        "print(\"version space is : \")\r\n",
        "print(s_h)\r\n",
        "print(g_h)  "
      ],
      "execution_count": null,
      "outputs": [
        {
          "output_type": "stream",
          "text": [
            "[' Sunny' 'Warm' 'Normal' 'Strong' ' Warm' 'Same']\n",
            "[['?', '?', '?', '?', '?', '?'], ['?', '?', '?', '?', '?', '?'], ['?', '?', '?', '?', '?', '?'], ['?', '?', '?', '?', '?', '?'], ['?', '?', '?', '?', '?', '?'], ['?', '?', '?', '?', '?', '?']]\n",
            "[' Sunny' 'Warm' 'Normal' 'Strong' ' Warm' 'Same']\n",
            "[['?', '?', '?', '?', '?', '?'], ['?', '?', '?', '?', '?', '?'], ['?', '?', '?', '?', '?', '?'], ['?', '?', '?', '?', '?', '?'], ['?', '?', '?', '?', '?', '?'], ['?', '?', '?', '?', '?', '?']]\n",
            "[' Sunny' 'Warm' '?' 'Strong' '?' 'Same']\n",
            "[['?', '?', '?', '?', '?', '?'], ['?', '?', '?', '?', '?', '?'], ['?', '?', '?', '?', '?', '?'], ['?', '?', '?', '?', '?', '?'], ['?', '?', '?', '?', '?', '?'], ['?', '?', '?', '?', '?', '?']]\n",
            "[' Sunny' 'Warm' '?' 'Strong' '?' 'Same']\n",
            "[[' Sunny', '?', '?', '?', '?', '?'], ['?', 'Warm', '?', '?', '?', '?'], ['?', '?', '?', '?', '?', '?'], ['?', '?', '?', '?', '?', '?'], ['?', '?', '?', '?', '?', '?'], ['?', '?', '?', '?', '?', 'Same']]\n",
            "[' Sunny' 'Warm' '?' 'Strong' '?' '?']\n",
            "[[' Sunny', '?', '?', '?', '?', '?'], ['?', 'Warm', '?', '?', '?', '?'], ['?', '?', '?', '?', '?', '?'], ['?', '?', '?', '?', '?', '?'], ['?', '?', '?', '?', '?', '?'], ['?', '?', '?', '?', '?', '?']]\n",
            "version space is : \n",
            "[' Sunny' 'Warm' '?' 'Strong' '?' '?']\n",
            "[[' Sunny', '?', '?', '?', '?', '?'], ['?', 'Warm', '?', '?', '?', '?']]\n"
          ],
          "name": "stdout"
        }
      ]
    },
    {
      "cell_type": "code",
      "metadata": {
        "colab": {
          "base_uri": "https://localhost:8080/"
        },
        "id": "asMV78Qsqv4G",
        "outputId": "d0437be8-c649-49a1-d087-4a7938e02893"
      },
      "source": [
        "import pandas as pd\r\n",
        "import numpy as np\r\n",
        "data= pd.DataFrame(data=pd.read_csv('Pgm 2 Tennis.csv'))\r\n",
        "concept = np.array(data.iloc[:,0:-1])\r\n",
        "target = np.array(data.iloc[:,-1])\r\n",
        "\r\n",
        "def learn(concept,target):\r\n",
        "  s_h=concept[0].copy()\r\n",
        "  print(s_h)\r\n",
        "  g_h=[[\"?\" for i in range(len(s_h))]for i in range(len(s_h)) ]\r\n",
        "  print(g_h)\r\n",
        "  for i in range(len(concept)):\r\n",
        "    if target[i].upper()==\"YES\":\r\n",
        "      for j in range(len(s_h)):\r\n",
        "        if concept[i][j]!=s_h[j]:\r\n",
        "         s_h[j]=\"?\"\r\n",
        "         g_h[j][j]=\"?\"\r\n",
        "    if target[i].upper()==\"NO\":\r\n",
        "      for j in range(len(s_h)):\r\n",
        "        if concept[i][j] != s_h[j]:\r\n",
        "         g_h[j][j]=s_h[j]\r\n",
        "        else:\r\n",
        "          g_h[j][j]=\"?\"\r\n",
        "    print(s_h)\r\n",
        "    print(g_h)      \r\n",
        "  indices=[i for i,v in enumerate(g_h) if v==[\"?\",\"?\",\"?\",\"?\",\"?\",\"?\"]]\r\n",
        "  for i in indices:\r\n",
        "     g_h.remove([\"?\",\"?\",\"?\",\"?\",\"?\",\"?\"])\r\n",
        "  return s_h,g_h          \r\n",
        "         \r\n",
        "\r\n",
        "\r\n",
        "s_h,g_h=learn(concept,target)\r\n",
        "print(s_h)\r\n",
        "print(g_h)"
      ],
      "execution_count": null,
      "outputs": [
        {
          "output_type": "stream",
          "text": [
            "[' Sunny' 'Warm' 'Normal' 'Strong' ' Warm' 'Same']\n",
            "[['?', '?', '?', '?', '?', '?'], ['?', '?', '?', '?', '?', '?'], ['?', '?', '?', '?', '?', '?'], ['?', '?', '?', '?', '?', '?'], ['?', '?', '?', '?', '?', '?'], ['?', '?', '?', '?', '?', '?']]\n",
            "[' Sunny' 'Warm' 'Normal' 'Strong' ' Warm' 'Same']\n",
            "[['?', '?', '?', '?', '?', '?'], ['?', '?', '?', '?', '?', '?'], ['?', '?', '?', '?', '?', '?'], ['?', '?', '?', '?', '?', '?'], ['?', '?', '?', '?', '?', '?'], ['?', '?', '?', '?', '?', '?']]\n",
            "[' Sunny' 'Warm' '?' 'Strong' '?' 'Same']\n",
            "[['?', '?', '?', '?', '?', '?'], ['?', '?', '?', '?', '?', '?'], ['?', '?', '?', '?', '?', '?'], ['?', '?', '?', '?', '?', '?'], ['?', '?', '?', '?', '?', '?'], ['?', '?', '?', '?', '?', '?']]\n",
            "[' Sunny' 'Warm' '?' 'Strong' '?' 'Same']\n",
            "[[' Sunny', '?', '?', '?', '?', '?'], ['?', 'Warm', '?', '?', '?', '?'], ['?', '?', '?', '?', '?', '?'], ['?', '?', '?', '?', '?', '?'], ['?', '?', '?', '?', '?', '?'], ['?', '?', '?', '?', '?', 'Same']]\n",
            "[' Sunny' 'Warm' '?' 'Strong' '?' '?']\n",
            "[[' Sunny', '?', '?', '?', '?', '?'], ['?', 'Warm', '?', '?', '?', '?'], ['?', '?', '?', '?', '?', '?'], ['?', '?', '?', '?', '?', '?'], ['?', '?', '?', '?', '?', '?'], ['?', '?', '?', '?', '?', '?']]\n",
            "[' Sunny' 'Warm' '?' 'Strong' '?' '?']\n",
            "[[' Sunny', '?', '?', '?', '?', '?'], ['?', 'Warm', '?', '?', '?', '?']]\n"
          ],
          "name": "stdout"
        }
      ]
    },
    {
      "cell_type": "code",
      "metadata": {
        "colab": {
          "base_uri": "https://localhost:8080/"
        },
        "id": "g2Fg-fy4HVs7",
        "outputId": "d6d6270f-4a5f-4ce4-888f-798a0aca40a0"
      },
      "source": [
        "!pip install pgmpy"
      ],
      "execution_count": null,
      "outputs": [
        {
          "output_type": "stream",
          "text": [
            "Collecting pgmpy\n",
            "\u001b[?25l  Downloading https://files.pythonhosted.org/packages/06/19/d508949e8ac7b32e639f15e854a5f5ed710a4118e4f6692bddaccc390d88/pgmpy-0.1.13-py3-none-any.whl (324kB)\n",
            "\r\u001b[K     |█                               | 10kB 16.6MB/s eta 0:00:01\r\u001b[K     |██                              | 20kB 13.5MB/s eta 0:00:01\r\u001b[K     |███                             | 30kB 9.2MB/s eta 0:00:01\r\u001b[K     |████                            | 40kB 7.7MB/s eta 0:00:01\r\u001b[K     |█████                           | 51kB 4.3MB/s eta 0:00:01\r\u001b[K     |██████                          | 61kB 5.0MB/s eta 0:00:01\r\u001b[K     |███████                         | 71kB 5.2MB/s eta 0:00:01\r\u001b[K     |████████                        | 81kB 5.6MB/s eta 0:00:01\r\u001b[K     |█████████                       | 92kB 5.7MB/s eta 0:00:01\r\u001b[K     |██████████                      | 102kB 5.6MB/s eta 0:00:01\r\u001b[K     |███████████                     | 112kB 5.6MB/s eta 0:00:01\r\u001b[K     |████████████▏                   | 122kB 5.6MB/s eta 0:00:01\r\u001b[K     |█████████████▏                  | 133kB 5.6MB/s eta 0:00:01\r\u001b[K     |██████████████▏                 | 143kB 5.6MB/s eta 0:00:01\r\u001b[K     |███████████████▏                | 153kB 5.6MB/s eta 0:00:01\r\u001b[K     |████████████████▏               | 163kB 5.6MB/s eta 0:00:01\r\u001b[K     |█████████████████▏              | 174kB 5.6MB/s eta 0:00:01\r\u001b[K     |██████████████████▏             | 184kB 5.6MB/s eta 0:00:01\r\u001b[K     |███████████████████▏            | 194kB 5.6MB/s eta 0:00:01\r\u001b[K     |████████████████████▏           | 204kB 5.6MB/s eta 0:00:01\r\u001b[K     |█████████████████████▏          | 215kB 5.6MB/s eta 0:00:01\r\u001b[K     |██████████████████████▏         | 225kB 5.6MB/s eta 0:00:01\r\u001b[K     |███████████████████████▎        | 235kB 5.6MB/s eta 0:00:01\r\u001b[K     |████████████████████████▎       | 245kB 5.6MB/s eta 0:00:01\r\u001b[K     |█████████████████████████▎      | 256kB 5.6MB/s eta 0:00:01\r\u001b[K     |██████████████████████████▎     | 266kB 5.6MB/s eta 0:00:01\r\u001b[K     |███████████████████████████▎    | 276kB 5.6MB/s eta 0:00:01\r\u001b[K     |████████████████████████████▎   | 286kB 5.6MB/s eta 0:00:01\r\u001b[K     |█████████████████████████████▎  | 296kB 5.6MB/s eta 0:00:01\r\u001b[K     |██████████████████████████████▎ | 307kB 5.6MB/s eta 0:00:01\r\u001b[K     |███████████████████████████████▎| 317kB 5.6MB/s eta 0:00:01\r\u001b[K     |████████████████████████████████| 327kB 5.6MB/s \n",
            "\u001b[?25hRequirement already satisfied: pyparsing in /usr/local/lib/python3.6/dist-packages (from pgmpy) (2.4.7)\n",
            "Requirement already satisfied: networkx in /usr/local/lib/python3.6/dist-packages (from pgmpy) (2.5)\n",
            "Requirement already satisfied: scikit-learn in /usr/local/lib/python3.6/dist-packages (from pgmpy) (0.22.2.post1)\n",
            "Requirement already satisfied: statsmodels in /usr/local/lib/python3.6/dist-packages (from pgmpy) (0.10.2)\n",
            "Requirement already satisfied: joblib in /usr/local/lib/python3.6/dist-packages (from pgmpy) (1.0.0)\n",
            "Requirement already satisfied: pandas in /usr/local/lib/python3.6/dist-packages (from pgmpy) (1.1.5)\n",
            "Requirement already satisfied: torch in /usr/local/lib/python3.6/dist-packages (from pgmpy) (1.7.0+cu101)\n",
            "Requirement already satisfied: numpy in /usr/local/lib/python3.6/dist-packages (from pgmpy) (1.19.5)\n",
            "Requirement already satisfied: scipy in /usr/local/lib/python3.6/dist-packages (from pgmpy) (1.4.1)\n",
            "Requirement already satisfied: tqdm in /usr/local/lib/python3.6/dist-packages (from pgmpy) (4.41.1)\n",
            "Requirement already satisfied: decorator>=4.3.0 in /usr/local/lib/python3.6/dist-packages (from networkx->pgmpy) (4.4.2)\n",
            "Requirement already satisfied: patsy>=0.4.0 in /usr/local/lib/python3.6/dist-packages (from statsmodels->pgmpy) (0.5.1)\n",
            "Requirement already satisfied: pytz>=2017.2 in /usr/local/lib/python3.6/dist-packages (from pandas->pgmpy) (2018.9)\n",
            "Requirement already satisfied: python-dateutil>=2.7.3 in /usr/local/lib/python3.6/dist-packages (from pandas->pgmpy) (2.8.1)\n",
            "Requirement already satisfied: typing-extensions in /usr/local/lib/python3.6/dist-packages (from torch->pgmpy) (3.7.4.3)\n",
            "Requirement already satisfied: dataclasses in /usr/local/lib/python3.6/dist-packages (from torch->pgmpy) (0.8)\n",
            "Requirement already satisfied: future in /usr/local/lib/python3.6/dist-packages (from torch->pgmpy) (0.16.0)\n",
            "Requirement already satisfied: six in /usr/local/lib/python3.6/dist-packages (from patsy>=0.4.0->statsmodels->pgmpy) (1.15.0)\n",
            "Installing collected packages: pgmpy\n",
            "Successfully installed pgmpy-0.1.13\n"
          ],
          "name": "stdout"
        }
      ]
    }
  ]
}